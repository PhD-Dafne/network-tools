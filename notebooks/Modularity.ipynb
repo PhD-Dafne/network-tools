{
 "cells": [
  {
   "cell_type": "markdown",
   "metadata": {},
   "source": [
    "# Modularity\n",
    "Implements formula's from Lambiotte et al., 2008."
   ]
  },
  {
   "cell_type": "code",
   "execution_count": 1,
   "metadata": {},
   "outputs": [],
   "source": [
    "import numpy as np"
   ]
  },
  {
   "cell_type": "code",
   "execution_count": 33,
   "metadata": {},
   "outputs": [
    {
     "data": {
      "text/plain": [
       "array([[ 0.,  1.,  1.,  1.],\n",
       "       [ 1.,  0.,  1.,  0.],\n",
       "       [ 1.,  1.,  0.,  1.],\n",
       "       [ 1.,  0.,  1.,  0.]])"
      ]
     },
     "execution_count": 33,
     "metadata": {},
     "output_type": "execute_result"
    }
   ],
   "source": [
    "# Create adjacency matrix\n",
    "n = 4\n",
    "A = np.zeros((n, n))\n",
    "A[0,1] = 1\n",
    "A[1,2] = 1\n",
    "A[2,3] = 1\n",
    "A[0,3] = 1\n",
    "A[0,2] = 1\n",
    "A = A + np.triu(A).T\n",
    "m = A.sum() / 2\n",
    "A"
   ]
  },
  {
   "cell_type": "code",
   "execution_count": 18,
   "metadata": {},
   "outputs": [
    {
     "data": {
      "text/plain": [
       "array([[ 1.,  0.],\n",
       "       [ 1.,  0.],\n",
       "       [ 0.,  1.],\n",
       "       [ 0.,  1.]])"
      ]
     },
     "execution_count": 18,
     "metadata": {},
     "output_type": "execute_result"
    }
   ],
   "source": [
    "# assign to commnities\n",
    "ncom = 2\n",
    "C = np.zeros((n, ncom))\n",
    "C[0, 0] = 1\n",
    "C[1, 0] = 1\n",
    "C[2, 1] = 1\n",
    "C[3, 1] = 1\n",
    "C"
   ]
  },
  {
   "cell_type": "code",
   "execution_count": 52,
   "metadata": {},
   "outputs": [],
   "source": [
    "def get_modularity_matrix(mat):\n",
    "    # k_i is the degree of k\n",
    "    k = mat.sum(axis=0)\n",
    "    mod = mat - (np.outer(k, k) / np.sum(mat))\n",
    "    return mod"
   ]
  },
  {
   "cell_type": "code",
   "execution_count": 46,
   "metadata": {},
   "outputs": [],
   "source": [
    "def get_modularity_value(mat, partition):\n",
    "    # delta tells if i,j are in the same cluster\n",
    "    delta = partition.dot(partition.T)\n",
    "    mod = get_modularity_matrix(mat)\n",
    "    Q = 1.0 / np.sum(mat) * np.sum(delta*mod)\n",
    "    return Q"
   ]
  },
  {
   "cell_type": "code",
   "execution_count": 63,
   "metadata": {},
   "outputs": [],
   "source": [
    "def get_init_stability(mat, partition):\n",
    "    k = mat.sum(axis=0)\n",
    "    delta = partition.dot(partition.T)\n",
    "    return 1 - np.sum(delta*np.outer(k, k)/ np.square(sum(mat)))"
   ]
  },
  {
   "cell_type": "code",
   "execution_count": 65,
   "metadata": {},
   "outputs": [],
   "source": [
    "def get_approx_stability(mat, partition, t):\n",
    "    stab_init = get_init_stability(mat, partition)\n",
    "    modularity_value = get_modularity_value(mat, partition)\n",
    "    return (1.0-t)*stab_init + t*modularity_value"
   ]
  },
  {
   "cell_type": "code",
   "execution_count": 56,
   "metadata": {},
   "outputs": [
    {
     "data": {
      "text/plain": [
       "-0.10000000000000001"
      ]
     },
     "execution_count": 56,
     "metadata": {},
     "output_type": "execute_result"
    }
   ],
   "source": [
    "Q = get_modularity_value(A, C)\n",
    "Q"
   ]
  },
  {
   "cell_type": "code",
   "execution_count": 57,
   "metadata": {},
   "outputs": [
    {
     "data": {
      "text/plain": [
       "array([[-0.9,  0.4,  0.1,  0.4],\n",
       "       [ 0.4, -0.4,  0.4, -0.4],\n",
       "       [ 0.1,  0.4, -0.9,  0.4],\n",
       "       [ 0.4, -0.4,  0.4, -0.4]])"
      ]
     },
     "execution_count": 57,
     "metadata": {},
     "output_type": "execute_result"
    }
   ],
   "source": [
    "B = get_modularity_matrix(A)\n",
    "B"
   ]
  },
  {
   "cell_type": "code",
   "execution_count": 64,
   "metadata": {},
   "outputs": [
    {
     "data": {
      "text/plain": [
       "-7.3333333333333321"
      ]
     },
     "execution_count": 64,
     "metadata": {},
     "output_type": "execute_result"
    }
   ],
   "source": [
    "get_init_stability(A, C)"
   ]
  },
  {
   "cell_type": "code",
   "execution_count": 66,
   "metadata": {},
   "outputs": [
    {
     "data": {
      "text/plain": [
       "-3.7166666666666659"
      ]
     },
     "execution_count": 66,
     "metadata": {},
     "output_type": "execute_result"
    }
   ],
   "source": [
    "get_approx_stability(A, C, 0.5)"
   ]
  },
  {
   "cell_type": "markdown",
   "metadata": {},
   "source": [
    "## compare with reference implementation"
   ]
  },
  {
   "cell_type": "code",
   "execution_count": 67,
   "metadata": {},
   "outputs": [],
   "source": [
    "import networkx as nx\n",
    "import community"
   ]
  },
  {
   "cell_type": "code",
   "execution_count": 95,
   "metadata": {},
   "outputs": [
    {
     "data": {
      "text/plain": [
       "-0.09999999999999998"
      ]
     },
     "execution_count": 95,
     "metadata": {},
     "output_type": "execute_result"
    }
   ],
   "source": [
    "graph = nx.Graph(A)\n",
    "nz = C.nonzero()\n",
    "partition = {nz[0][i]: nz[1][i] for i in range(len(nz[0]))}\n",
    "community.modularity(partition, graph)"
   ]
  },
  {
   "cell_type": "code",
   "execution_count": null,
   "metadata": {},
   "outputs": [],
   "source": []
  }
 ],
 "metadata": {
  "kernelspec": {
   "display_name": "Python [conda env:caselaw]",
   "language": "python",
   "name": "conda-env-caselaw-py"
  },
  "language_info": {
   "codemirror_mode": {
    "name": "ipython",
    "version": 3
   },
   "file_extension": ".py",
   "mimetype": "text/x-python",
   "name": "python",
   "nbconvert_exporter": "python",
   "pygments_lexer": "ipython3",
   "version": "3.5.2"
  }
 },
 "nbformat": 4,
 "nbformat_minor": 2
}
