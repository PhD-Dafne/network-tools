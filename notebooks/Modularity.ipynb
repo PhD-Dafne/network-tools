{
 "cells": [
  {
   "cell_type": "markdown",
   "metadata": {},
   "source": [
    "# Modularity\n",
    "Implements formula's from Lambiotte et al., 2008."
   ]
  },
  {
   "cell_type": "code",
   "execution_count": 1,
   "metadata": {},
   "outputs": [],
   "source": [
    "import numpy as np\n",
    "import scipy.sparse"
   ]
  },
  {
   "cell_type": "code",
   "execution_count": 2,
   "metadata": {},
   "outputs": [
    {
     "data": {
      "text/plain": [
       "array([[ 0.,  2.,  2.,  0.,  0.,  0.],\n",
       "       [ 2.,  0.,  2.,  0.,  0.,  0.],\n",
       "       [ 2.,  2.,  0.,  1.,  0.,  0.],\n",
       "       [ 0.,  0.,  1.,  0.,  2.,  2.],\n",
       "       [ 0.,  0.,  0.,  2.,  0.,  2.],\n",
       "       [ 0.,  0.,  0.,  2.,  2.,  0.]])"
      ]
     },
     "execution_count": 2,
     "metadata": {},
     "output_type": "execute_result"
    }
   ],
   "source": [
    "# Create adjacency matrix\n",
    "n = 6\n",
    "A = np.zeros((n, n))\n",
    "A[0,1] = 2\n",
    "A[0,2] = 2\n",
    "A[1,2] = 2\n",
    "A[2,3] = 1\n",
    "A[3,5] = 2\n",
    "A[3,4] = 2\n",
    "A[4,5] = 2\n",
    "\n",
    "A = A + np.triu(A).T\n",
    "m = A.sum() / 2\n",
    "A"
   ]
  },
  {
   "cell_type": "code",
   "execution_count": 3,
   "metadata": {},
   "outputs": [
    {
     "data": {
      "text/plain": [
       "array([[ 1.,  0.],\n",
       "       [ 1.,  0.],\n",
       "       [ 1.,  0.],\n",
       "       [ 0.,  1.],\n",
       "       [ 0.,  1.],\n",
       "       [ 0.,  1.]])"
      ]
     },
     "execution_count": 3,
     "metadata": {},
     "output_type": "execute_result"
    }
   ],
   "source": [
    "# assign to commnities\n",
    "ncom = 2\n",
    "C = np.zeros((n, ncom))\n",
    "for i in range(3):\n",
    "    C[i, 0] = 1\n",
    "for j in range(3, 6):\n",
    "    C[j, 1] = 1\n",
    "C"
   ]
  },
  {
   "cell_type": "code",
   "execution_count": 4,
   "metadata": {},
   "outputs": [],
   "source": [
    "def get_modularity_matrix(mat):\n",
    "    # k_i is the degree of k\n",
    "    k = mat.sum(axis=0)\n",
    "    mod = mat - (np.outer(k, k) / np.sum(mat))\n",
    "    return mod"
   ]
  },
  {
   "cell_type": "code",
   "execution_count": 5,
   "metadata": {},
   "outputs": [],
   "source": [
    "def get_modularity_value(mat, partition):\n",
    "    # delta tells if i,j are in the same cluster\n",
    "    delta = partition.dot(partition.T)\n",
    "    mod = get_modularity_matrix(mat)\n",
    "    Q = 1.0 / np.sum(mat) * np.sum(delta*mod)\n",
    "    return Q"
   ]
  },
  {
   "cell_type": "code",
   "execution_count": 6,
   "metadata": {},
   "outputs": [],
   "source": [
    "def get_init_stability(mat, partition):\n",
    "    k = mat.sum(axis=0)\n",
    "    delta = partition.dot(partition.T)\n",
    "    return 1 - np.sum(delta*np.outer(k, k)/ np.square(sum(mat)))"
   ]
  },
  {
   "cell_type": "code",
   "execution_count": 7,
   "metadata": {},
   "outputs": [],
   "source": [
    "def get_approx_stability(mat, partition, t):\n",
    "    stab_init = get_init_stability(mat, partition)\n",
    "    modularity_value = get_modularity_value(mat, partition)\n",
    "    return (1.0-t)*stab_init + t*modularity_value"
   ]
  },
  {
   "cell_type": "code",
   "execution_count": 8,
   "metadata": {},
   "outputs": [
    {
     "data": {
      "text/plain": [
       "0.42307692307692313"
      ]
     },
     "execution_count": 8,
     "metadata": {},
     "output_type": "execute_result"
    }
   ],
   "source": [
    "Q = get_modularity_value(A, C)\n",
    "Q"
   ]
  },
  {
   "cell_type": "code",
   "execution_count": 9,
   "metadata": {},
   "outputs": [
    {
     "data": {
      "text/plain": [
       "0.0"
      ]
     },
     "execution_count": 9,
     "metadata": {},
     "output_type": "execute_result"
    }
   ],
   "source": [
    "get_modularity_value(scipy.sparse.csr_matrix(A), C)"
   ]
  },
  {
   "cell_type": "code",
   "execution_count": 10,
   "metadata": {},
   "outputs": [
    {
     "data": {
      "text/plain": [
       "array([[-0.61538462,  1.38461538,  1.23076923, -0.76923077, -0.61538462,\n",
       "        -0.61538462],\n",
       "       [ 1.38461538, -0.61538462,  1.23076923, -0.76923077, -0.61538462,\n",
       "        -0.61538462],\n",
       "       [ 1.23076923,  1.23076923, -0.96153846,  0.03846154, -0.76923077,\n",
       "        -0.76923077],\n",
       "       [-0.76923077, -0.76923077,  0.03846154, -0.96153846,  1.23076923,\n",
       "         1.23076923],\n",
       "       [-0.61538462, -0.61538462, -0.76923077,  1.23076923, -0.61538462,\n",
       "         1.38461538],\n",
       "       [-0.61538462, -0.61538462, -0.76923077,  1.23076923,  1.38461538,\n",
       "        -0.61538462]])"
      ]
     },
     "execution_count": 10,
     "metadata": {},
     "output_type": "execute_result"
    }
   ],
   "source": [
    "B = get_modularity_matrix(A)\n",
    "B"
   ]
  },
  {
   "cell_type": "code",
   "execution_count": 11,
   "metadata": {},
   "outputs": [
    {
     "data": {
      "text/plain": [
       "-17.199999999999999"
      ]
     },
     "execution_count": 11,
     "metadata": {},
     "output_type": "execute_result"
    }
   ],
   "source": [
    "get_init_stability(A, C)"
   ]
  },
  {
   "cell_type": "code",
   "execution_count": 12,
   "metadata": {},
   "outputs": [
    {
     "data": {
      "text/plain": [
       "-8.388461538461538"
      ]
     },
     "execution_count": 12,
     "metadata": {},
     "output_type": "execute_result"
    }
   ],
   "source": [
    "get_approx_stability(A, C, 0.5)"
   ]
  },
  {
   "cell_type": "markdown",
   "metadata": {},
   "source": [
    "## compare with reference implementation"
   ]
  },
  {
   "cell_type": "code",
   "execution_count": 13,
   "metadata": {},
   "outputs": [],
   "source": [
    "import networkx as nx\n",
    "import community"
   ]
  },
  {
   "cell_type": "code",
   "execution_count": 14,
   "metadata": {},
   "outputs": [
    {
     "data": {
      "text/plain": [
       "0.42307692307692313"
      ]
     },
     "execution_count": 14,
     "metadata": {},
     "output_type": "execute_result"
    }
   ],
   "source": [
    "graph = nx.Graph(A)\n",
    "nz = C.nonzero()\n",
    "partition = {nz[0][i]: nz[1][i] for i in range(len(nz[0]))}\n",
    "community.modularity(partition, graph)"
   ]
  },
  {
   "cell_type": "code",
   "execution_count": 15,
   "metadata": {},
   "outputs": [],
   "source": [
    "import igraph\n",
    "import louvain"
   ]
  },
  {
   "cell_type": "code",
   "execution_count": 16,
   "metadata": {},
   "outputs": [],
   "source": [
    "g = igraph.Graph()\n",
    "g.add_vertices(len(A))\n",
    "ix, jx = A.nonzero()\n",
    "for i,j in zip(ix, jx):\n",
    "    if i<j:\n",
    "        g.add_edge(i, j, weight=A[i,j])"
   ]
  },
  {
   "cell_type": "code",
   "execution_count": 17,
   "metadata": {},
   "outputs": [
    {
     "name": "stdout",
     "output_type": "stream",
     "text": [
      "[0, 0, 0, 1, 1, 1]\n",
      "0.3571428571428571\n",
      "0.4230769230769231\n"
     ]
    }
   ],
   "source": [
    "part = louvain.find_partition(g, louvain.ModularityVertexPartition, weights='weight')\n",
    "print(part.membership)\n",
    "print(part.modularity)\n",
    "print(part.quality())"
   ]
  },
  {
   "cell_type": "code",
   "execution_count": 94,
   "metadata": {},
   "outputs": [],
   "source": [
    "B = np.array([[ 0.,  2.,  2.,  0.,  0.,  0.],\n",
    "       [ 2.,  0.,  2.,  0.,  0.,  0.],\n",
    "       [ 2.,  2.,  0.,  1.,  0.,  0.],\n",
    "       [ 0.,  0.,  1.,  0.,  2.,  2.],\n",
    "       [ 0.,  0.,  0.,  2.,  0.,  2.],\n",
    "       [ 0.,  0.,  0.,  2.,  2.,  0.]])"
   ]
  },
  {
   "cell_type": "code",
   "execution_count": 96,
   "metadata": {},
   "outputs": [
    {
     "data": {
      "text/plain": [
       "array([[ True,  True,  True,  True,  True,  True],\n",
       "       [ True,  True,  True,  True,  True,  True],\n",
       "       [ True,  True,  True,  True,  True,  True],\n",
       "       [ True,  True,  True,  True,  True,  True],\n",
       "       [ True,  True,  True,  True,  True,  True],\n",
       "       [ True,  True,  True,  True,  True,  True]], dtype=bool)"
      ]
     },
     "execution_count": 96,
     "metadata": {},
     "output_type": "execute_result"
    }
   ],
   "source": [
    "A==B"
   ]
  },
  {
   "cell_type": "code",
   "execution_count": 68,
   "metadata": {},
   "outputs": [
    {
     "data": {
      "text/plain": [
       "[0, 0, 0, 1, 1, 1]"
      ]
     },
     "execution_count": 68,
     "metadata": {},
     "output_type": "execute_result"
    }
   ],
   "source": [
    "part.membership"
   ]
  },
  {
   "cell_type": "code",
   "execution_count": 69,
   "metadata": {},
   "outputs": [],
   "source": [
    "g.write_graphml('/media/sf_VBox_Shared/networks/test.graphml')"
   ]
  },
  {
   "cell_type": "markdown",
   "metadata": {},
   "source": [
    "Gephi notes a modularity of 0.423, without weight itś 0.357"
   ]
  },
  {
   "cell_type": "code",
   "execution_count": 70,
   "metadata": {},
   "outputs": [
    {
     "data": {
      "text/plain": [
       "0.3571428571428571"
      ]
     },
     "execution_count": 70,
     "metadata": {},
     "output_type": "execute_result"
    }
   ],
   "source": [
    "part = louvain.find_partition(g, louvain.ModularityVertexPartition)\n",
    "part.modularity"
   ]
  },
  {
   "cell_type": "code",
   "execution_count": 71,
   "metadata": {},
   "outputs": [
    {
     "data": {
      "text/plain": [
       "0.35714285714285715"
      ]
     },
     "execution_count": 71,
     "metadata": {},
     "output_type": "execute_result"
    }
   ],
   "source": [
    "part.quality()"
   ]
  },
  {
   "cell_type": "code",
   "execution_count": 72,
   "metadata": {},
   "outputs": [
    {
     "data": {
      "text/plain": [
       "[2.0, 2.0, 2.0, 1.0, 2.0, 2.0, 2.0]"
      ]
     },
     "execution_count": 72,
     "metadata": {},
     "output_type": "execute_result"
    }
   ],
   "source": [
    "g.es['weight']"
   ]
  },
  {
   "cell_type": "code",
   "execution_count": 87,
   "metadata": {},
   "outputs": [
    {
     "data": {
      "text/plain": [
       "0.5207100591715976"
      ]
     },
     "execution_count": 87,
     "metadata": {},
     "output_type": "execute_result"
    }
   ],
   "source": [
    "w_tot = 13*2\n",
    "((2-4*4/w_tot)*4 + (2-4*5/w_tot)*8 + (1-5*5/w_tot)*2 + (0-5*5/w_tot)*2)/w_tot"
   ]
  },
  {
   "cell_type": "code",
   "execution_count": 84,
   "metadata": {},
   "outputs": [
    {
     "data": {
      "text/plain": [
       "array([[-16.,  36.,  32.,  -0.,  -0.,  -0.],\n",
       "       [ 36., -16.,  32.,  -0.,  -0.,  -0.],\n",
       "       [ 32.,  32., -25.,   0.,  -0.,  -0.],\n",
       "       [ -0.,  -0.,   0., -25.,  32.,  32.],\n",
       "       [ -0.,  -0.,  -0.,  32., -16.,  36.],\n",
       "       [ -0.,  -0.,  -0.,  32.,  36., -16.]])"
      ]
     },
     "execution_count": 84,
     "metadata": {},
     "output_type": "execute_result"
    }
   ],
   "source": [
    "delta = C.dot(C.T)\n",
    "get_modularity_matrix(A)*13*2 * delta"
   ]
  },
  {
   "cell_type": "code",
   "execution_count": 86,
   "metadata": {},
   "outputs": [
    {
     "data": {
      "text/plain": [
       "array([[-0.61538462,  1.38461538,  1.23076923, -0.76923077, -0.61538462,\n",
       "        -0.61538462],\n",
       "       [ 1.38461538, -0.61538462,  1.23076923, -0.76923077, -0.61538462,\n",
       "        -0.61538462],\n",
       "       [ 1.23076923,  1.23076923, -0.96153846,  0.03846154, -0.76923077,\n",
       "        -0.76923077],\n",
       "       [-0.76923077, -0.76923077,  0.03846154, -0.96153846,  1.23076923,\n",
       "         1.23076923],\n",
       "       [-0.61538462, -0.61538462, -0.76923077,  1.23076923, -0.61538462,\n",
       "         1.38461538],\n",
       "       [-0.61538462, -0.61538462, -0.76923077,  1.23076923,  1.38461538,\n",
       "        -0.61538462]])"
      ]
     },
     "execution_count": 86,
     "metadata": {},
     "output_type": "execute_result"
    }
   ],
   "source": [
    "get_modularity_matrix(A)"
   ]
  },
  {
   "cell_type": "code",
   "execution_count": 92,
   "metadata": {},
   "outputs": [
    {
     "data": {
      "text/plain": [
       "\u001b[0;31mSignature:\u001b[0m \u001b[0mlouvain\u001b[0m\u001b[0;34m.\u001b[0m\u001b[0mfind_partition\u001b[0m\u001b[0;34m(\u001b[0m\u001b[0mgraph\u001b[0m\u001b[0;34m,\u001b[0m \u001b[0mpartition_type\u001b[0m\u001b[0;34m,\u001b[0m \u001b[0minitial_membership\u001b[0m\u001b[0;34m=\u001b[0m\u001b[0;32mNone\u001b[0m\u001b[0;34m,\u001b[0m \u001b[0mweights\u001b[0m\u001b[0;34m=\u001b[0m\u001b[0;32mNone\u001b[0m\u001b[0;34m,\u001b[0m \u001b[0;34m**\u001b[0m\u001b[0mkwargs\u001b[0m\u001b[0;34m)\u001b[0m\u001b[0;34m\u001b[0m\u001b[0m\n",
       "\u001b[0;31mDocstring:\u001b[0m\n",
       "Detect communities using the default settings.\n",
       "\n",
       "This function detects communities given the specified method in the\n",
       "``partition_type``. This should be type derived from\n",
       ":class:`VertexPartition.MutableVertexPartition`, e.g.\n",
       ":class:`ModularityVertexPartition` or :class:`CPMVertexPartition`. Optionally\n",
       "an initial membership and edge weights can be provided. Remaining\n",
       "``**kwargs`` are passed on to the constructor of the ``partition_type``,\n",
       "including for example a ``resolution_parameter``.\n",
       "\n",
       "Parameters\n",
       "----------\n",
       "graph : :class:`ig.Graph`\n",
       "  The graph for which to detect communities.\n",
       "\n",
       "partition_type : type of :class:`\n",
       "  The type of partition to use for optimisation.\n",
       "\n",
       "initial_membership : list of int\n",
       "  Initial membership for the partition. If :obj:`None` then defaults to a\n",
       "  singleton partition.\n",
       "\n",
       "weights : list of double, or edge attribute\n",
       "  Weights of edges. Can be either an iterable or an edge attribute.\n",
       "\n",
       "**kwargs\n",
       "  Remaining keyword arguments, passed on to constructor of\n",
       "  ``partition_type``.\n",
       "\n",
       "Returns\n",
       "-------\n",
       "partition\n",
       "  The optimised partition.\n",
       "\n",
       "See Also\n",
       "--------\n",
       ":func:`Optimiser.optimise_partition`\n",
       "\n",
       "Examples\n",
       "--------\n",
       ">>> G = ig.Graph.Famous('Zachary')\n",
       ">>> partition = louvain.find_partition(G, louvain.ModularityVertexPartition)\n",
       "\u001b[0;31mFile:\u001b[0m      ~/tools/louvain-igraph/build/lib.linux-x86_64-3.5/louvain/functions.py\n",
       "\u001b[0;31mType:\u001b[0m      function\n"
      ]
     },
     "metadata": {},
     "output_type": "display_data"
    }
   ],
   "source": [
    "louvain.find_partition?"
   ]
  },
  {
   "cell_type": "code",
   "execution_count": null,
   "metadata": {},
   "outputs": [],
   "source": []
  }
 ],
 "metadata": {
  "kernelspec": {
   "display_name": "Python [conda env:caselaw]",
   "language": "python",
   "name": "conda-env-caselaw-py"
  },
  "language_info": {
   "codemirror_mode": {
    "name": "ipython",
    "version": 3
   },
   "file_extension": ".py",
   "mimetype": "text/x-python",
   "name": "python",
   "nbconvert_exporter": "python",
   "pygments_lexer": "ipython3",
   "version": "3.5.5"
  }
 },
 "nbformat": 4,
 "nbformat_minor": 2
}
