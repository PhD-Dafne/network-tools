{
 "cells": [
  {
   "cell_type": "markdown",
   "metadata": {},
   "source": [
    "# Consensus clustering community detection\n",
    "Reference: Lancichinetti, Andrea, and Santo Fortunato. \"Consensus clustering in complex networks.\" _Scientific reports 2_ (2012): 336."
   ]
  },
  {
   "cell_type": "code",
   "execution_count": null,
   "metadata": {},
   "outputs": [],
   "source": [
    "%matplotlib inline\n",
    "import matplotlib.pyplot as plt\n",
    "import igraph\n",
    "import louvain\n",
    "import numpy as np\n",
    "import itertools"
   ]
  },
  {
   "cell_type": "markdown",
   "metadata": {},
   "source": [
    "Import Zachary karate club dataset [W. W. Zachary, An\n",
    "information flow model for conflict and fission in small groups, Journal of\n",
    "Anthropological Research 33, 452-473 (1977).]"
   ]
  },
  {
   "cell_type": "code",
   "execution_count": null,
   "metadata": {},
   "outputs": [],
   "source": [
    "g_karate = igraph.load('/media/sf_VBox_Shared/networks/karate/karate.gml')"
   ]
  },
  {
   "cell_type": "code",
   "execution_count": null,
   "metadata": {},
   "outputs": [],
   "source": [
    "list(g_karate.vs)[:10]"
   ]
  },
  {
   "cell_type": "code",
   "execution_count": null,
   "metadata": {},
   "outputs": [],
   "source": [
    "list(g_karate.es)[:10]"
   ]
  },
  {
   "cell_type": "code",
   "execution_count": null,
   "metadata": {},
   "outputs": [],
   "source": [
    "g = g_karate\n",
    "partition_type = louvain.ModularityVertexPartition\n",
    "weights=None\n",
    "nr_partitions = 100\n",
    "threshold = 0\n",
    "\n",
    "n = len(g.vs)\n",
    "consensus_matrix = np.zeros((n, n))\n",
    "for i in range(nr_partitions):\n",
    "    partition = louvain.find_partition(g, partition_type=partition_type, weights=weights)\n",
    "    k = len(partition.sizes()) # Number of partitions\n",
    "    b = np.zeros((n, k))\n",
    "    b[np.arange(n), partition.membership] = 1\n",
    "    consensus_matrix += b.dot(b.T)\n",
    "consensus_matrix /= nr_partitions\n",
    "\n",
    "g2 = g.copy()\n",
    "g2.delete_edges(g2.es)\n",
    "\n",
    "consensus_matrix_fixed = consensus_matrix\n",
    "consensus_matrix_fixed[consensus_matrix<=threshold] = 0\n",
    "ix, jx = consensus_matrix_fixed.nonzero()\n",
    "for i,j in zip(list(ix), list(jx)):\n",
    "    if i!=j: # is this necessary?\n",
    "        g2.add_edge(i,j,weight=consensus_matrix_fixed[i,j])"
   ]
  },
  {
   "cell_type": "code",
   "execution_count": null,
   "metadata": {},
   "outputs": [],
   "source": [
    "plt.imshow(consensus_matrix, cmap='Greys', interpolation='none')"
   ]
  },
  {
   "cell_type": "code",
   "execution_count": null,
   "metadata": {},
   "outputs": [],
   "source": [
    "# To do: Are there any disconnected nodes?\n",
    "consensus_matrix.sum(axis=1)"
   ]
  },
  {
   "cell_type": "code",
   "execution_count": null,
   "metadata": {},
   "outputs": [],
   "source": [
    "# To do: install fix \n",
    "igraph.plot(g_karate)"
   ]
  },
  {
   "cell_type": "code",
   "execution_count": null,
   "metadata": {},
   "outputs": [],
   "source": [
    "igraph.__version__"
   ]
  },
  {
   "cell_type": "code",
   "execution_count": null,
   "metadata": {},
   "outputs": [],
   "source": []
  }
 ],
 "metadata": {
  "language_info": {
   "name": "python",
   "pygments_lexer": "ipython3"
  }
 },
 "nbformat": 4,
 "nbformat_minor": 2
}
