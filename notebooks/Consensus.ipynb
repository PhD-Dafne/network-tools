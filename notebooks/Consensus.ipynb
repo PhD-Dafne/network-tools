{
 "cells": [
  {
   "cell_type": "markdown",
   "metadata": {},
   "source": [
    "# Consensus clustering community detection\n",
    "Reference: Lancichinetti, Andrea, and Santo Fortunato. \"Consensus clustering in complex networks.\" _Scientific reports 2_ (2012): 336."
   ]
  },
  {
   "cell_type": "code",
   "execution_count": 1,
   "metadata": {},
   "outputs": [],
   "source": [
    "%matplotlib inline\n",
    "import matplotlib.pyplot as plt\n",
    "import igraph\n",
    "import louvain\n",
    "import numpy as np\n",
    "import itertools\n",
    "import pandas as pd\n",
    "from nwtools import communities"
   ]
  },
  {
   "cell_type": "markdown",
   "metadata": {},
   "source": [
    "Import Zachary karate club dataset [W. W. Zachary, An\n",
    "information flow model for conflict and fission in small groups, Journal of\n",
    "Anthropological Research 33, 452-473 (1977).]"
   ]
  },
  {
   "cell_type": "code",
   "execution_count": 2,
   "metadata": {},
   "outputs": [],
   "source": [
    "g_karate = igraph.load('/media/sf_VBox_Shared/networks/karate/karate.gml')"
   ]
  },
  {
   "cell_type": "code",
   "execution_count": 3,
   "metadata": {},
   "outputs": [],
   "source": [
    "g_law = igraph.load('/media/sf_VBox_Shared/CaseLaw/2018-01-29-lido/derived/subnetwork/article_to_article_wgaansi.graphml')"
   ]
  },
  {
   "cell_type": "code",
   "execution_count": 4,
   "metadata": {},
   "outputs": [
    {
     "data": {
      "text/plain": [
       "[igraph.Edge(<igraph.Graph object at 0x7fab975f86d8>, 0, {}),\n",
       " igraph.Edge(<igraph.Graph object at 0x7fab975f86d8>, 1, {}),\n",
       " igraph.Edge(<igraph.Graph object at 0x7fab975f86d8>, 2, {}),\n",
       " igraph.Edge(<igraph.Graph object at 0x7fab975f86d8>, 3, {}),\n",
       " igraph.Edge(<igraph.Graph object at 0x7fab975f86d8>, 4, {}),\n",
       " igraph.Edge(<igraph.Graph object at 0x7fab975f86d8>, 5, {}),\n",
       " igraph.Edge(<igraph.Graph object at 0x7fab975f86d8>, 6, {}),\n",
       " igraph.Edge(<igraph.Graph object at 0x7fab975f86d8>, 7, {}),\n",
       " igraph.Edge(<igraph.Graph object at 0x7fab975f86d8>, 8, {}),\n",
       " igraph.Edge(<igraph.Graph object at 0x7fab975f86d8>, 9, {})]"
      ]
     },
     "execution_count": 4,
     "metadata": {},
     "output_type": "execute_result"
    }
   ],
   "source": [
    "list(g_karate.es)[:10]"
   ]
  },
  {
   "cell_type": "code",
   "execution_count": 5,
   "metadata": {},
   "outputs": [
    {
     "data": {
      "text/plain": [
       "[igraph.Edge(<igraph.Graph object at 0x7fab64c586d8>, 0, {'Edge Label': '', 'weight': 5.0, 'id': '13849'}),\n",
       " igraph.Edge(<igraph.Graph object at 0x7fab64c586d8>, 1, {'Edge Label': '', 'weight': 5.0, 'id': '13850'}),\n",
       " igraph.Edge(<igraph.Graph object at 0x7fab64c586d8>, 2, {'Edge Label': '', 'weight': 6.0, 'id': '13851'}),\n",
       " igraph.Edge(<igraph.Graph object at 0x7fab64c586d8>, 3, {'Edge Label': '', 'weight': 5.0, 'id': '13852'}),\n",
       " igraph.Edge(<igraph.Graph object at 0x7fab64c586d8>, 4, {'Edge Label': '', 'weight': 5.0, 'id': '13853'}),\n",
       " igraph.Edge(<igraph.Graph object at 0x7fab64c586d8>, 5, {'Edge Label': '', 'weight': 10.0, 'id': '13854'}),\n",
       " igraph.Edge(<igraph.Graph object at 0x7fab64c586d8>, 6, {'Edge Label': '', 'weight': 5.0, 'id': '13855'}),\n",
       " igraph.Edge(<igraph.Graph object at 0x7fab64c586d8>, 7, {'Edge Label': '', 'weight': 7.0, 'id': '13856'}),\n",
       " igraph.Edge(<igraph.Graph object at 0x7fab64c586d8>, 8, {'Edge Label': '', 'weight': 6.0, 'id': '13857'}),\n",
       " igraph.Edge(<igraph.Graph object at 0x7fab64c586d8>, 9, {'Edge Label': '', 'weight': 5.0, 'id': '13858'})]"
      ]
     },
     "execution_count": 5,
     "metadata": {},
     "output_type": "execute_result"
    }
   ],
   "source": [
    "list(g_law.es)[:10]"
   ]
  },
  {
   "cell_type": "code",
   "execution_count": 6,
   "metadata": {},
   "outputs": [
    {
     "name": "stdout",
     "output_type": "stream",
     "text": [
      "Iteration 0\n",
      "Smallest connected component: 34\n"
     ]
    },
    {
     "data": {
      "image/png": "[encoded data removed]",
      "text/plain": [
       "<Figure size 432x288 with 1 Axes>"
      ]
     },
     "metadata": {},
     "output_type": "display_data"
    },
    {
     "name": "stdout",
     "output_type": "stream",
     "text": [
      "Iteration 1\n",
      "Smallest connected component: 5\n"
     ]
    },
    {
     "data": {
      "image/png": "[encoded data removed]",
      "text/plain": [
       "<Figure size 432x288 with 1 Axes>"
      ]
     },
     "metadata": {},
     "output_type": "display_data"
    },
    {
     "name": "stdout",
     "output_type": "stream",
     "text": [
      "Converged!\n"
     ]
    }
   ],
   "source": [
    "cons1_karate, part1_karate = communities.consensus_partition(g_karate, verbose=True)"
   ]
  },
  {
   "cell_type": "code",
   "execution_count": 7,
   "metadata": {},
   "outputs": [
    {
     "name": "stdout",
     "output_type": "stream",
     "text": [
      "Iteration 0\n",
      "Smallest connected component: 1\n"
     ]
    },
    {
     "data": {
      "image/png": "[encoded data removed]",
      "text/plain": [
       "<Figure size 432x288 with 1 Axes>"
      ]
     },
     "metadata": {},
     "output_type": "display_data"
    },
    {
     "name": "stdout",
     "output_type": "stream",
     "text": [
      "Iteration 1\n",
      "Smallest connected component: 1\n"
     ]
    },
    {
     "data": {
      "image/png": "[encoded data removed]",
      "text/plain": [
       "<Figure size 432x288 with 1 Axes>"
      ]
     },
     "metadata": {},
     "output_type": "display_data"
    },
    {
     "name": "stdout",
     "output_type": "stream",
     "text": [
      "Converged!\n"
     ]
    }
   ],
   "source": [
    "cons2_karate, part2_karate = communities.consensus_partition(g_karate, threshold=0.9, verbose=True)"
   ]
  },
  {
   "cell_type": "code",
   "execution_count": 8,
   "metadata": {},
   "outputs": [
    {
     "data": {
      "image/png": "[encoded data removed]",
      "text/plain": [
       "<Figure size 432x288 with 1 Axes>"
      ]
     },
     "metadata": {},
     "output_type": "display_data"
    }
   ],
   "source": [
    "adj = np.array(g_karate.get_adjacency().data)\n",
    "communities.plot_sorted_adjacency(adj, part2_karate)"
   ]
  },
  {
   "cell_type": "code",
   "execution_count": 10,
   "metadata": {},
   "outputs": [],
   "source": [
    "cons1_law, partition1_law = communities.consensus_partition(g_law, threshold=0.9, weights='weight')"
   ]
  },
  {
   "cell_type": "code",
   "execution_count": 11,
   "metadata": {},
   "outputs": [
    {
     "data": {
      "image/png": "[encoded data removed]",
      "text/plain": [
       "<Figure size 432x288 with 1 Axes>"
      ]
     },
     "metadata": {},
     "output_type": "display_data"
    }
   ],
   "source": [
    "adj = np.array(g_law.get_adjacency().data)\n",
    "communities.plot_sorted_adjacency(adj, partition1_law)"
   ]
  },
  {
   "cell_type": "code",
   "execution_count": 12,
   "metadata": {},
   "outputs": [],
   "source": [
    "cons2_law, partition2_law = communities.consensus_partition(g_law, threshold=0, weights='weight')"
   ]
  },
  {
   "cell_type": "code",
   "execution_count": 13,
   "metadata": {},
   "outputs": [
    {
     "data": {
      "image/png": "[encoded data removed]",
      "text/plain": [
       "<Figure size 432x288 with 1 Axes>"
      ]
     },
     "metadata": {},
     "output_type": "display_data"
    }
   ],
   "source": [
    "adj = np.array(g_law.get_adjacency().data)\n",
    "communities.plot_sorted_adjacency(adj, partition2_law)"
   ]
  },
  {
   "cell_type": "code",
   "execution_count": null,
   "metadata": {},
   "outputs": [],
   "source": [
    "g_law.vs['consensus'] = partition2_law"
   ]
  },
  {
   "cell_type": "code",
   "execution_count": null,
   "metadata": {},
   "outputs": [],
   "source": [
    "g_law.write_graphml('/media/sf_VBox_Shared/CaseLaw/2018-01-29-lido/derived/subnetwork/article_to_article_consensus.graphml')"
   ]
  },
  {
   "cell_type": "code",
   "execution_count": null,
   "metadata": {},
   "outputs": [],
   "source": [
    "# To do: install fix \n",
    "igraph.plot(g_karate)"
   ]
  },
  {
   "cell_type": "code",
   "execution_count": null,
   "metadata": {},
   "outputs": [],
   "source": []
  },
  {
   "cell_type": "code",
   "execution_count": null,
   "metadata": {},
   "outputs": [],
   "source": []
  }
 ],
 "metadata": {
  "kernelspec": {
   "display_name": "Python [conda env:caselaw]",
   "language": "python",
   "name": "conda-env-caselaw-py"
  },
  "language_info": {
   "codemirror_mode": {
    "name": "ipython",
    "version": 3
   },
   "file_extension": ".py",
   "mimetype": "text/x-python",
   "name": "python",
   "nbconvert_exporter": "python",
   "pygments_lexer": "ipython3",
   "version": "3.5.5"
  }
 },
 "nbformat": 4,
 "nbformat_minor": 2
}
