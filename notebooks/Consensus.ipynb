{
 "cells": [
  {
   "cell_type": "markdown",
   "metadata": {},
   "source": [
    "# Consensus clustering community detection\n",
    "Reference: Lancichinetti, Andrea, and Santo Fortunato. \"Consensus clustering in complex networks.\" _Scientific reports 2_ (2012): 336."
   ]
  },
  {
   "cell_type": "code",
   "execution_count": 1,
   "metadata": {},
   "outputs": [],
   "source": [
    "%matplotlib inline\n",
    "import matplotlib.pyplot as plt\n",
    "import igraph\n",
    "import louvain\n",
    "import numpy as np\n",
    "import itertools\n",
    "import pandas as pd\n",
    "from nwtools import communities"
   ]
  },
  {
   "cell_type": "markdown",
   "metadata": {},
   "source": [
    "Import Zachary karate club dataset [W. W. Zachary, An\n",
    "information flow model for conflict and fission in small groups, Journal of\n",
    "Anthropological Research 33, 452-473 (1977).]"
   ]
  },
  {
   "cell_type": "code",
   "execution_count": 2,
   "metadata": {},
   "outputs": [],
   "source": [
    "g_karate = igraph.load('/media/sf_VBox_Shared/networks/karate/karate.gml')"
   ]
  },
  {
   "cell_type": "code",
   "execution_count": 3,
   "metadata": {},
   "outputs": [],
   "source": [
    "g_law = igraph.load('/media/sf_VBox_Shared/CaseLaw/2018-01-29-lido/derived/subnetwork/article_to_article_wgaansi.graphml')"
   ]
  },
  {
   "cell_type": "code",
   "execution_count": 4,
   "metadata": {},
   "outputs": [],
   "source": [
    "# law_links_df = pd.read_csv('/media/sf_VBox_Shared/CaseLaw/2018-01-29-lido/derived/article_to_article_title_min5.csv')\n",
    "\n",
    "# g_law = igraph.Graph()\n",
    "# vertices = list(set(law_links_df.source).union(set(law_links_df.target)))\n",
    "# vertices_dict = {vertices[i]: i for i in range(len(vertices))}\n",
    "# g_law.add_vertices(vertices_dict.keys())\n",
    "# for i, row in law_links_df.iterrows():\n",
    "#     g_law.add_edge(vertices_dict[row.source], vertices_dict[row.target], weight=row.weight)"
   ]
  },
  {
   "cell_type": "code",
   "execution_count": 5,
   "metadata": {},
   "outputs": [
    {
     "data": {
      "text/plain": [
       "[igraph.Edge(<igraph.Graph object at 0x7f628bcc67c8>, 0, {}),\n",
       " igraph.Edge(<igraph.Graph object at 0x7f628bcc67c8>, 1, {}),\n",
       " igraph.Edge(<igraph.Graph object at 0x7f628bcc67c8>, 2, {}),\n",
       " igraph.Edge(<igraph.Graph object at 0x7f628bcc67c8>, 3, {}),\n",
       " igraph.Edge(<igraph.Graph object at 0x7f628bcc67c8>, 4, {}),\n",
       " igraph.Edge(<igraph.Graph object at 0x7f628bcc67c8>, 5, {}),\n",
       " igraph.Edge(<igraph.Graph object at 0x7f628bcc67c8>, 6, {}),\n",
       " igraph.Edge(<igraph.Graph object at 0x7f628bcc67c8>, 7, {}),\n",
       " igraph.Edge(<igraph.Graph object at 0x7f628bcc67c8>, 8, {}),\n",
       " igraph.Edge(<igraph.Graph object at 0x7f628bcc67c8>, 9, {})]"
      ]
     },
     "execution_count": 5,
     "metadata": {},
     "output_type": "execute_result"
    }
   ],
   "source": [
    "list(g_karate.es)[:10]"
   ]
  },
  {
   "cell_type": "code",
   "execution_count": 6,
   "metadata": {},
   "outputs": [
    {
     "data": {
      "text/plain": [
       "[igraph.Edge(<igraph.Graph object at 0x7f62592db5e8>, 0, {'id': '13849', 'Edge Label': '', 'weight': 5.0}),\n",
       " igraph.Edge(<igraph.Graph object at 0x7f62592db5e8>, 1, {'id': '13850', 'Edge Label': '', 'weight': 5.0}),\n",
       " igraph.Edge(<igraph.Graph object at 0x7f62592db5e8>, 2, {'id': '13851', 'Edge Label': '', 'weight': 6.0}),\n",
       " igraph.Edge(<igraph.Graph object at 0x7f62592db5e8>, 3, {'id': '13852', 'Edge Label': '', 'weight': 5.0}),\n",
       " igraph.Edge(<igraph.Graph object at 0x7f62592db5e8>, 4, {'id': '13853', 'Edge Label': '', 'weight': 5.0}),\n",
       " igraph.Edge(<igraph.Graph object at 0x7f62592db5e8>, 5, {'id': '13854', 'Edge Label': '', 'weight': 10.0}),\n",
       " igraph.Edge(<igraph.Graph object at 0x7f62592db5e8>, 6, {'id': '13855', 'Edge Label': '', 'weight': 5.0}),\n",
       " igraph.Edge(<igraph.Graph object at 0x7f62592db5e8>, 7, {'id': '13856', 'Edge Label': '', 'weight': 7.0}),\n",
       " igraph.Edge(<igraph.Graph object at 0x7f62592db5e8>, 8, {'id': '13857', 'Edge Label': '', 'weight': 6.0}),\n",
       " igraph.Edge(<igraph.Graph object at 0x7f62592db5e8>, 9, {'id': '13858', 'Edge Label': '', 'weight': 5.0})]"
      ]
     },
     "execution_count": 6,
     "metadata": {},
     "output_type": "execute_result"
    }
   ],
   "source": [
    "list(g_law.es)[:10]"
   ]
  },
  {
   "cell_type": "code",
   "execution_count": 10,
   "metadata": {},
   "outputs": [
    {
     "name": "stdout",
     "output_type": "stream",
     "text": [
      "Iteration 0\n",
      "Smallest connected component: 34\n"
     ]
    },
    {
     "data": {
      "image/png": "[encoded data removed]",
      "text/plain": [
       "<Figure size 432x288 with 1 Axes>"
      ]
     },
     "metadata": {},
     "output_type": "display_data"
    },
    {
     "name": "stdout",
     "output_type": "stream",
     "text": [
      "Iteration 1\n",
      "Smallest connected component: 5\n"
     ]
    },
    {
     "data": {
      "image/png": "[encoded data removed]",
      "text/plain": [
       "<Figure size 432x288 with 1 Axes>"
      ]
     },
     "metadata": {},
     "output_type": "display_data"
    },
    {
     "name": "stdout",
     "output_type": "stream",
     "text": [
      "Iteration 2\n",
      "Smallest connected component: 5\n"
     ]
    },
    {
     "data": {
      "image/png": "[encoded data removed]",
      "text/plain": [
       "<Figure size 432x288 with 1 Axes>"
      ]
     },
     "metadata": {},
     "output_type": "display_data"
    },
    {
     "name": "stdout",
     "output_type": "stream",
     "text": [
      "Iteration 3\n",
      "Smallest connected component: 5\n",
      "Converged!\n"
     ]
    }
   ],
   "source": [
    "cons1_karate, part1_karate = communities.consensus_partition(g_karate, verbose=True)"
   ]
  },
  {
   "cell_type": "code",
   "execution_count": 12,
   "metadata": {},
   "outputs": [
    {
     "name": "stdout",
     "output_type": "stream",
     "text": [
      "Iteration 0\n",
      "Smallest connected component: 1\n"
     ]
    },
    {
     "data": {
      "image/png": "[encoded data removed]",
      "text/plain": [
       "<Figure size 432x288 with 1 Axes>"
      ]
     },
     "metadata": {},
     "output_type": "display_data"
    },
    {
     "name": "stdout",
     "output_type": "stream",
     "text": [
      "Iteration 1\n",
      "Smallest connected component: 1\n"
     ]
    },
    {
     "data": {
      "image/png": "[encoded data removed]",
      "text/plain": [
       "<Figure size 432x288 with 1 Axes>"
      ]
     },
     "metadata": {},
     "output_type": "display_data"
    },
    {
     "name": "stdout",
     "output_type": "stream",
     "text": [
      "Iteration 2\n",
      "Smallest connected component: 1\n",
      "Converged!\n"
     ]
    }
   ],
   "source": [
    "cons2_karate, part2_karate = communities.consensus_partition(g_karate, threshold=0.9, verbose=True)"
   ]
  },
  {
   "cell_type": "code",
   "execution_count": null,
   "metadata": {},
   "outputs": [],
   "source": [
    "adj = np.array(g_karate.get_adjacency().data)\n",
    "plot_sorted_adjacency(adj, part1_karate)"
   ]
  },
  {
   "cell_type": "code",
   "execution_count": null,
   "metadata": {},
   "outputs": [],
   "source": [
    "adj = np.array(g_karate.get_adjacency().data)\n",
    "plot_sorted_adjacency(adj, part2_karate)"
   ]
  },
  {
   "cell_type": "code",
   "execution_count": null,
   "metadata": {},
   "outputs": [],
   "source": [
    "cons1_law, partition1_law = consensus_partition(g_law, threshold=0.9, weights='weight')"
   ]
  },
  {
   "cell_type": "code",
   "execution_count": null,
   "metadata": {},
   "outputs": [],
   "source": [
    "adj = np.array(g_law.get_adjacency().data)\n",
    "plot_sorted_adjacency(adj, partition1_law)"
   ]
  },
  {
   "cell_type": "code",
   "execution_count": null,
   "metadata": {},
   "outputs": [],
   "source": [
    "cons2_law, partition2_law = consensus_partition(g_law, threshold=0, weights='weight')"
   ]
  },
  {
   "cell_type": "code",
   "execution_count": null,
   "metadata": {},
   "outputs": [],
   "source": [
    "adj = np.array(g_law.get_adjacency().data)\n",
    "plot_sorted_adjacency(adj, partition2_law)"
   ]
  },
  {
   "cell_type": "code",
   "execution_count": null,
   "metadata": {},
   "outputs": [],
   "source": [
    "g_law.vs['consensus'] = partition2_law"
   ]
  },
  {
   "cell_type": "code",
   "execution_count": null,
   "metadata": {},
   "outputs": [],
   "source": [
    "g_law.write_graphml('/media/sf_VBox_Shared/CaseLaw/2018-01-29-lido/derived/subnetwork/article_to_article_consensus.graphml')"
   ]
  },
  {
   "cell_type": "code",
   "execution_count": null,
   "metadata": {},
   "outputs": [],
   "source": [
    "# To do: install fix \n",
    "igraph.plot(g_karate)"
   ]
  },
  {
   "cell_type": "code",
   "execution_count": null,
   "metadata": {},
   "outputs": [],
   "source": []
  },
  {
   "cell_type": "code",
   "execution_count": null,
   "metadata": {},
   "outputs": [],
   "source": []
  }
 ],
 "metadata": {
  "kernelspec": {
   "display_name": "Python [conda env:caselaw]",
   "language": "python",
   "name": "conda-env-caselaw-py"
  },
  "language_info": {
   "codemirror_mode": {
    "name": "ipython",
    "version": 3
   },
   "file_extension": ".py",
   "mimetype": "text/x-python",
   "name": "python",
   "nbconvert_exporter": "python",
   "pygments_lexer": "ipython3",
   "version": "3.5.5"
  }
 },
 "nbformat": 4,
 "nbformat_minor": 2
}
