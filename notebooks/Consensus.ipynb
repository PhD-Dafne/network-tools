{
 "cells": [
  {
   "cell_type": "markdown",
   "metadata": {},
   "source": [
    "# Consensus clustering community detection\n",
    "Reference: Lancichinetti, Andrea, and Santo Fortunato. \"Consensus clustering in complex networks.\" _Scientific reports 2_ (2012): 336."
   ]
  },
  {
   "cell_type": "code",
   "execution_count": 1,
   "metadata": {},
   "outputs": [],
   "source": [
    "%load_ext autoreload\n",
    "%autoreload 2\n",
    "%matplotlib inline\n",
    "import matplotlib.pyplot as plt\n",
    "import igraph\n",
    "import leidenalg\n",
    "import numpy as np\n",
    "import itertools\n",
    "import pandas as pd\n",
    "from nwtools import communities, consensus"
   ]
  },
  {
   "cell_type": "markdown",
   "metadata": {},
   "source": [
    "Import Zachary karate club dataset [W. W. Zachary, An\n",
    "information flow model for conflict and fission in small groups, Journal of\n",
    "Anthropological Research 33, 452-473 (1977).]"
   ]
  },
  {
   "cell_type": "code",
   "execution_count": 2,
   "metadata": {},
   "outputs": [],
   "source": [
    "g_karate = igraph.load('/media/sf_VBox_Shared/networks/karate/karate.gml')"
   ]
  },
  {
   "cell_type": "code",
   "execution_count": 3,
   "metadata": {},
   "outputs": [],
   "source": [
    "g_law = igraph.load('/media/sf_VBox_Shared/CaseLaw/2018-01-29-lido/derived/subnetwork/article_to_article_wgaansi.graphml')"
   ]
  },
  {
   "cell_type": "code",
   "execution_count": 4,
   "metadata": {},
   "outputs": [
    {
     "name": "stdout",
     "output_type": "stream",
     "text": [
      "Iteration 0\n",
      "Iteration 1\n",
      "Converged!\n"
     ]
    },
    {
     "data": {
      "image/png": "[encoded data removed]",
      "text/plain": [
       "<Figure size 432x288 with 1 Axes>"
      ]
     },
     "metadata": {
      "needs_background": "light"
     },
     "output_type": "display_data"
    }
   ],
   "source": [
    "cons1_karate, part1_karate = consensus.consensus_partition(g_karate, verbose=True)\n",
    "communities.plot_sorted_adjacency(cons1_karate, part1_karate)"
   ]
  },
  {
   "cell_type": "code",
   "execution_count": 5,
   "metadata": {},
   "outputs": [
    {
     "name": "stdout",
     "output_type": "stream",
     "text": [
      "Iteration 0\n",
      "Iteration 1\n",
      "Converged!\n"
     ]
    },
    {
     "data": {
      "image/png": "[encoded data removed]",
      "text/plain": [
       "<Figure size 432x288 with 1 Axes>"
      ]
     },
     "metadata": {
      "needs_background": "light"
     },
     "output_type": "display_data"
    }
   ],
   "source": [
    "cons2_karate, part2_karate = consensus.consensus_partition(g_karate, threshold=0.9, verbose=True, singleton_clusters=True)\n",
    "communities.plot_sorted_adjacency(cons2_karate, part2_karate)"
   ]
  },
  {
   "cell_type": "code",
   "execution_count": 6,
   "metadata": {},
   "outputs": [
    {
     "data": {
      "image/png": "[encoded data removed]",
      "text/plain": [
       "<Figure size 432x288 with 1 Axes>"
      ]
     },
     "metadata": {
      "needs_background": "light"
     },
     "output_type": "display_data"
    }
   ],
   "source": [
    "adj = np.array(g_karate.get_adjacency().data)\n",
    "communities.plot_sorted_adjacency(adj, part2_karate)"
   ]
  },
  {
   "cell_type": "code",
   "execution_count": 7,
   "metadata": {},
   "outputs": [],
   "source": [
    "cons1_law, partition1_law = consensus.consensus_partition(g_law, threshold=0.9, weights='weight')"
   ]
  },
  {
   "cell_type": "code",
   "execution_count": 8,
   "metadata": {},
   "outputs": [
    {
     "data": {
      "image/png": "[encoded data removed]",
      "text/plain": [
       "<Figure size 432x288 with 1 Axes>"
      ]
     },
     "metadata": {
      "needs_background": "light"
     },
     "output_type": "display_data"
    }
   ],
   "source": [
    "adj = np.array(g_law.get_adjacency().data)\n",
    "communities.plot_sorted_adjacency(adj, partition1_law)"
   ]
  },
  {
   "cell_type": "code",
   "execution_count": 9,
   "metadata": {},
   "outputs": [
    {
     "data": {
      "text/plain": [
       "2    103\n",
       "0    101\n",
       "1     29\n",
       "3     23\n",
       "6      2\n",
       "5      2\n",
       "4      2\n",
       "dtype: int64"
      ]
     },
     "execution_count": 9,
     "metadata": {},
     "output_type": "execute_result"
    }
   ],
   "source": [
    "pd.Series(partition1_law).value_counts()"
   ]
  },
  {
   "cell_type": "code",
   "execution_count": 10,
   "metadata": {},
   "outputs": [],
   "source": [
    "cons2_law, partition2_law = consensus.consensus_partition(g_law, threshold=0.5, weights='weight')"
   ]
  },
  {
   "cell_type": "code",
   "execution_count": 11,
   "metadata": {},
   "outputs": [
    {
     "data": {
      "image/png": "[encoded data removed]",
      "text/plain": [
       "<Figure size 432x288 with 1 Axes>"
      ]
     },
     "metadata": {
      "needs_background": "light"
     },
     "output_type": "display_data"
    }
   ],
   "source": [
    "communities.plot_sorted_adjacency(cons2_law, partition2_law)"
   ]
  },
  {
   "cell_type": "code",
   "execution_count": 12,
   "metadata": {},
   "outputs": [],
   "source": [
    "g_law.vs['consensus'] = partition2_law"
   ]
  },
  {
   "cell_type": "code",
   "execution_count": 13,
   "metadata": {},
   "outputs": [],
   "source": [
    "g_law.write_graphml('/media/sf_VBox_Shared/CaseLaw/2018-01-29-lido/derived/subnetwork/article_to_article_consensus.graphml')"
   ]
  },
  {
   "cell_type": "code",
   "execution_count": 14,
   "metadata": {},
   "outputs": [],
   "source": [
    "import matplotlib \n",
    "cm = matplotlib.cm.get_cmap('tab10')\n",
    "cmap = {t: cm(t/10) for t in range(10)}\n",
    "\n",
    "layout = g_karate.layout('kk')"
   ]
  },
  {
   "cell_type": "code",
   "execution_count": 15,
   "metadata": {},
   "outputs": [
    {
     "data": {
      "image/svg+xml": [
       "<?xml version=\"1.0\" encoding=\"UTF-8\"?>\n",
       "<svg xmlns=\"http://www.w3.org/2000/svg\" xmlns:xlink=\"http://www.w3.org/1999/xlink\" width=\"600pt\" height=\"600pt\" viewBox=\"0 0 600 600\" version=\"1.1\">\n",
       "<g id=\"surface2\">\n",
       "<rect x=\"0\" y=\"0\" width=\"600\" height=\"600\" style=\"fill:rgb(100%,100%,100%);fill-opacity:1;stroke:none;\"/>\n",
       "<path style=\"fill:none;stroke-width:1;stroke-linecap:butt;stroke-linejoin:miter;stroke:rgb(26.666667%,26.666667%,26.666667%);stroke-opacity:1;stroke-miterlimit:10;\" d=\"M 235.117188 364.652344 L 122.554688 298.125 \"/>\n",
       "<path style=\"fill:none;stroke-width:1;stroke-linecap:butt;stroke-linejoin:miter;stroke:rgb(26.666667%,26.666667%,26.666667%);stroke-opacity:1;stroke-miterlimit:10;\" d=\"M 235.117188 364.652344 L 253.242188 267.128906 \"/>\n",
       "<path style=\"fill:none;stroke-width:1;stroke-linecap:butt;stroke-linejoin:miter;stroke:rgb(26.666667%,26.666667%,26.666667%);stroke-opacity:1;stroke-miterlimit:10;\" d=\"M 122.554688 298.125 L 253.242188 267.128906 \"/>\n",
       "<path style=\"fill:none;stroke-width:1;stroke-linecap:butt;stroke-linejoin:miter;stroke:rgb(26.666667%,26.666667%,26.666667%);stroke-opacity:1;stroke-miterlimit:10;\" d=\"M 235.117188 364.652344 L 166.179688 344.195312 \"/>\n",
       "<path style=\"fill:none;stroke-width:1;stroke-linecap:butt;stroke-linejoin:miter;stroke:rgb(26.666667%,26.666667%,26.666667%);stroke-opacity:1;stroke-miterlimit:10;\" d=\"M 122.554688 298.125 L 166.179688 344.195312 \"/>\n",
       "<path style=\"fill:none;stroke-width:1;stroke-linecap:butt;stroke-linejoin:miter;stroke:rgb(26.666667%,26.666667%,26.666667%);stroke-opacity:1;stroke-miterlimit:10;\" d=\"M 253.242188 267.128906 L 166.179688 344.195312 \"/>\n",
       "<path style=\"fill:none;stroke-width:1;stroke-linecap:butt;stroke-linejoin:miter;stroke:rgb(26.666667%,26.666667%,26.666667%);stroke-opacity:1;stroke-miterlimit:10;\" d=\"M 235.117188 364.652344 L 363.90625 427.585938 \"/>\n",
       "<path style=\"fill:none;stroke-width:1;stroke-linecap:butt;stroke-linejoin:miter;stroke:rgb(26.666667%,26.666667%,26.666667%);stroke-opacity:1;stroke-miterlimit:10;\" d=\"M 235.117188 364.652344 L 363.25 465.128906 \"/>\n",
       "<path style=\"fill:none;stroke-width:1;stroke-linecap:butt;stroke-linejoin:miter;stroke:rgb(26.666667%,26.666667%,26.666667%);stroke-opacity:1;stroke-miterlimit:10;\" d=\"M 235.117188 364.652344 L 287.578125 489.496094 \"/>\n",
       "<path style=\"fill:none;stroke-width:1;stroke-linecap:butt;stroke-linejoin:miter;stroke:rgb(26.666667%,26.666667%,26.666667%);stroke-opacity:1;stroke-miterlimit:10;\" d=\"M 363.90625 427.585938 L 287.578125 489.496094 \"/>\n",
       "<path style=\"fill:none;stroke-width:1;stroke-linecap:butt;stroke-linejoin:miter;stroke:rgb(26.666667%,26.666667%,26.666667%);stroke-opacity:1;stroke-miterlimit:10;\" d=\"M 363.25 465.128906 L 287.578125 489.496094 \"/>\n",
       "<path style=\"fill:none;stroke-width:1;stroke-linecap:butt;stroke-linejoin:miter;stroke:rgb(26.666667%,26.666667%,26.666667%);stroke-opacity:1;stroke-miterlimit:10;\" d=\"M 235.117188 364.652344 L 68.210938 301.425781 \"/>\n",
       "<path style=\"fill:none;stroke-width:1;stroke-linecap:butt;stroke-linejoin:miter;stroke:rgb(26.666667%,26.666667%,26.666667%);stroke-opacity:1;stroke-miterlimit:10;\" d=\"M 122.554688 298.125 L 68.210938 301.425781 \"/>\n",
       "<path style=\"fill:none;stroke-width:1;stroke-linecap:butt;stroke-linejoin:miter;stroke:rgb(26.666667%,26.666667%,26.666667%);stroke-opacity:1;stroke-miterlimit:10;\" d=\"M 253.242188 267.128906 L 68.210938 301.425781 \"/>\n",
       "<path style=\"fill:none;stroke-width:1;stroke-linecap:butt;stroke-linejoin:miter;stroke:rgb(26.666667%,26.666667%,26.666667%);stroke-opacity:1;stroke-miterlimit:10;\" d=\"M 166.179688 344.195312 L 68.210938 301.425781 \"/>\n",
       "<path style=\"fill:none;stroke-width:1;stroke-linecap:butt;stroke-linejoin:miter;stroke:rgb(26.666667%,26.666667%,26.666667%);stroke-opacity:1;stroke-miterlimit:10;\" d=\"M 235.117188 364.652344 L 309.035156 253.191406 \"/>\n",
       "<path style=\"fill:none;stroke-width:1;stroke-linecap:butt;stroke-linejoin:miter;stroke:rgb(26.666667%,26.666667%,26.666667%);stroke-opacity:1;stroke-miterlimit:10;\" d=\"M 253.242188 267.128906 L 309.035156 253.191406 \"/>\n",
       "<path style=\"fill:none;stroke-width:1;stroke-linecap:butt;stroke-linejoin:miter;stroke:rgb(26.666667%,26.666667%,26.666667%);stroke-opacity:1;stroke-miterlimit:10;\" d=\"M 253.242188 267.128906 L 128.25 149.214844 \"/>\n",
       "<path style=\"fill:none;stroke-width:1;stroke-linecap:butt;stroke-linejoin:miter;stroke:rgb(26.666667%,26.666667%,26.666667%);stroke-opacity:1;stroke-miterlimit:10;\" d=\"M 235.117188 364.652344 L 249.070312 464.855469 \"/>\n",
       "<path style=\"fill:none;stroke-width:1;stroke-linecap:butt;stroke-linejoin:miter;stroke:rgb(26.666667%,26.666667%,26.666667%);stroke-opacity:1;stroke-miterlimit:10;\" d=\"M 363.90625 427.585938 L 249.070312 464.855469 \"/>\n",
       "<path style=\"fill:none;stroke-width:1;stroke-linecap:butt;stroke-linejoin:miter;stroke:rgb(26.666667%,26.666667%,26.666667%);stroke-opacity:1;stroke-miterlimit:10;\" d=\"M 363.25 465.128906 L 249.070312 464.855469 \"/>\n",
       "<path style=\"fill:none;stroke-width:1;stroke-linecap:butt;stroke-linejoin:miter;stroke:rgb(26.666667%,26.666667%,26.666667%);stroke-opacity:1;stroke-miterlimit:10;\" d=\"M 235.117188 364.652344 L 94.945312 461.964844 \"/>\n",
       "<path style=\"fill:none;stroke-width:1;stroke-linecap:butt;stroke-linejoin:miter;stroke:rgb(26.666667%,26.666667%,26.666667%);stroke-opacity:1;stroke-miterlimit:10;\" d=\"M 235.117188 364.652344 L 156.363281 453.585938 \"/>\n",
       "<path style=\"fill:none;stroke-width:1;stroke-linecap:butt;stroke-linejoin:miter;stroke:rgb(26.666667%,26.666667%,26.666667%);stroke-opacity:1;stroke-miterlimit:10;\" d=\"M 166.179688 344.195312 L 156.363281 453.585938 \"/>\n",
       "<path style=\"fill:none;stroke-width:1;stroke-linecap:butt;stroke-linejoin:miter;stroke:rgb(26.666667%,26.666667%,26.666667%);stroke-opacity:1;stroke-miterlimit:10;\" d=\"M 235.117188 364.652344 L 170.851562 241.917969 \"/>\n",
       "<path style=\"fill:none;stroke-width:1;stroke-linecap:butt;stroke-linejoin:miter;stroke:rgb(26.666667%,26.666667%,26.666667%);stroke-opacity:1;stroke-miterlimit:10;\" d=\"M 122.554688 298.125 L 170.851562 241.917969 \"/>\n",
       "<path style=\"fill:none;stroke-width:1;stroke-linecap:butt;stroke-linejoin:miter;stroke:rgb(26.666667%,26.666667%,26.666667%);stroke-opacity:1;stroke-miterlimit:10;\" d=\"M 253.242188 267.128906 L 170.851562 241.917969 \"/>\n",
       "<path style=\"fill:none;stroke-width:1;stroke-linecap:butt;stroke-linejoin:miter;stroke:rgb(26.666667%,26.666667%,26.666667%);stroke-opacity:1;stroke-miterlimit:10;\" d=\"M 166.179688 344.195312 L 170.851562 241.917969 \"/>\n",
       "<path style=\"fill:none;stroke-width:1;stroke-linecap:butt;stroke-linejoin:miter;stroke:rgb(26.666667%,26.666667%,26.666667%);stroke-opacity:1;stroke-miterlimit:10;\" d=\"M 363.25 465.128906 L 380.480469 580 \"/>\n",
       "<path style=\"fill:none;stroke-width:1;stroke-linecap:butt;stroke-linejoin:miter;stroke:rgb(26.666667%,26.666667%,26.666667%);stroke-opacity:1;stroke-miterlimit:10;\" d=\"M 287.578125 489.496094 L 380.480469 580 \"/>\n",
       "<path style=\"fill:none;stroke-width:1;stroke-linecap:butt;stroke-linejoin:miter;stroke:rgb(26.666667%,26.666667%,26.666667%);stroke-opacity:1;stroke-miterlimit:10;\" d=\"M 235.117188 364.652344 L 20 366.128906 \"/>\n",
       "<path style=\"fill:none;stroke-width:1;stroke-linecap:butt;stroke-linejoin:miter;stroke:rgb(26.666667%,26.666667%,26.666667%);stroke-opacity:1;stroke-miterlimit:10;\" d=\"M 122.554688 298.125 L 20 366.128906 \"/>\n",
       "<path style=\"fill:none;stroke-width:1;stroke-linecap:butt;stroke-linejoin:miter;stroke:rgb(26.666667%,26.666667%,26.666667%);stroke-opacity:1;stroke-miterlimit:10;\" d=\"M 235.117188 364.652344 L 222.863281 248.402344 \"/>\n",
       "<path style=\"fill:none;stroke-width:1;stroke-linecap:butt;stroke-linejoin:miter;stroke:rgb(26.666667%,26.666667%,26.666667%);stroke-opacity:1;stroke-miterlimit:10;\" d=\"M 122.554688 298.125 L 222.863281 248.402344 \"/>\n",
       "<path style=\"fill:none;stroke-width:1;stroke-linecap:butt;stroke-linejoin:miter;stroke:rgb(26.666667%,26.666667%,26.666667%);stroke-opacity:1;stroke-miterlimit:10;\" d=\"M 235.117188 364.652344 L 61.539062 401.167969 \"/>\n",
       "<path style=\"fill:none;stroke-width:1;stroke-linecap:butt;stroke-linejoin:miter;stroke:rgb(26.666667%,26.666667%,26.666667%);stroke-opacity:1;stroke-miterlimit:10;\" d=\"M 122.554688 298.125 L 61.539062 401.167969 \"/>\n",
       "<path style=\"fill:none;stroke-width:1;stroke-linecap:butt;stroke-linejoin:miter;stroke:rgb(26.666667%,26.666667%,26.666667%);stroke-opacity:1;stroke-miterlimit:10;\" d=\"M 499.8125 154.238281 L 580 255.324219 \"/>\n",
       "<path style=\"fill:none;stroke-width:1;stroke-linecap:butt;stroke-linejoin:miter;stroke:rgb(26.666667%,26.666667%,26.666667%);stroke-opacity:1;stroke-miterlimit:10;\" d=\"M 543.722656 320.722656 L 580 255.324219 \"/>\n",
       "<path style=\"fill:none;stroke-width:1;stroke-linecap:butt;stroke-linejoin:miter;stroke:rgb(26.666667%,26.666667%,26.666667%);stroke-opacity:1;stroke-miterlimit:10;\" d=\"M 253.242188 267.128906 L 438.15625 231.632812 \"/>\n",
       "<path style=\"fill:none;stroke-width:1;stroke-linecap:butt;stroke-linejoin:miter;stroke:rgb(26.666667%,26.666667%,26.666667%);stroke-opacity:1;stroke-miterlimit:10;\" d=\"M 499.8125 154.238281 L 438.15625 231.632812 \"/>\n",
       "<path style=\"fill:none;stroke-width:1;stroke-linecap:butt;stroke-linejoin:miter;stroke:rgb(26.666667%,26.666667%,26.666667%);stroke-opacity:1;stroke-miterlimit:10;\" d=\"M 543.722656 320.722656 L 438.15625 231.632812 \"/>\n",
       "<path style=\"fill:none;stroke-width:1;stroke-linecap:butt;stroke-linejoin:miter;stroke:rgb(26.666667%,26.666667%,26.666667%);stroke-opacity:1;stroke-miterlimit:10;\" d=\"M 253.242188 267.128906 L 388.445312 206.542969 \"/>\n",
       "<path style=\"fill:none;stroke-width:1;stroke-linecap:butt;stroke-linejoin:miter;stroke:rgb(26.666667%,26.666667%,26.666667%);stroke-opacity:1;stroke-miterlimit:10;\" d=\"M 499.8125 154.238281 L 439.878906 80.449219 \"/>\n",
       "<path style=\"fill:none;stroke-width:1;stroke-linecap:butt;stroke-linejoin:miter;stroke:rgb(26.666667%,26.666667%,26.666667%);stroke-opacity:1;stroke-miterlimit:10;\" d=\"M 399.5 20 L 439.878906 80.449219 \"/>\n",
       "<path style=\"fill:none;stroke-width:1;stroke-linecap:butt;stroke-linejoin:miter;stroke:rgb(26.666667%,26.666667%,26.666667%);stroke-opacity:1;stroke-miterlimit:10;\" d=\"M 122.554688 298.125 L 176.113281 176.558594 \"/>\n",
       "<path style=\"fill:none;stroke-width:1;stroke-linecap:butt;stroke-linejoin:miter;stroke:rgb(26.666667%,26.666667%,26.666667%);stroke-opacity:1;stroke-miterlimit:10;\" d=\"M 309.035156 253.191406 L 176.113281 176.558594 \"/>\n",
       "<path style=\"fill:none;stroke-width:1;stroke-linecap:butt;stroke-linejoin:miter;stroke:rgb(26.666667%,26.666667%,26.666667%);stroke-opacity:1;stroke-miterlimit:10;\" d=\"M 235.117188 364.652344 L 387.632812 280.097656 \"/>\n",
       "<path style=\"fill:none;stroke-width:1;stroke-linecap:butt;stroke-linejoin:miter;stroke:rgb(26.666667%,26.666667%,26.666667%);stroke-opacity:1;stroke-miterlimit:10;\" d=\"M 543.722656 320.722656 L 387.632812 280.097656 \"/>\n",
       "<path style=\"fill:none;stroke-width:1;stroke-linecap:butt;stroke-linejoin:miter;stroke:rgb(26.666667%,26.666667%,26.666667%);stroke-opacity:1;stroke-miterlimit:10;\" d=\"M 580 255.324219 L 387.632812 280.097656 \"/>\n",
       "<path style=\"fill:none;stroke-width:1;stroke-linecap:butt;stroke-linejoin:miter;stroke:rgb(26.666667%,26.666667%,26.666667%);stroke-opacity:1;stroke-miterlimit:10;\" d=\"M 388.445312 206.542969 L 387.632812 280.097656 \"/>\n",
       "<path style=\"fill:none;stroke-width:1;stroke-linecap:butt;stroke-linejoin:miter;stroke:rgb(26.666667%,26.666667%,26.666667%);stroke-opacity:1;stroke-miterlimit:10;\" d=\"M 253.242188 267.128906 L 337.195312 146.679688 \"/>\n",
       "<path style=\"fill:none;stroke-width:1;stroke-linecap:butt;stroke-linejoin:miter;stroke:rgb(26.666667%,26.666667%,26.666667%);stroke-opacity:1;stroke-miterlimit:10;\" d=\"M 309.035156 253.191406 L 337.195312 146.679688 \"/>\n",
       "<path style=\"fill:none;stroke-width:1;stroke-linecap:butt;stroke-linejoin:miter;stroke:rgb(26.666667%,26.666667%,26.666667%);stroke-opacity:1;stroke-miterlimit:10;\" d=\"M 215.890625 49.179688 L 337.195312 146.679688 \"/>\n",
       "<path style=\"fill:none;stroke-width:1;stroke-linecap:butt;stroke-linejoin:miter;stroke:rgb(26.666667%,26.666667%,26.666667%);stroke-opacity:1;stroke-miterlimit:10;\" d=\"M 479.59375 98.453125 L 337.195312 146.679688 \"/>\n",
       "<path style=\"fill:none;stroke-width:1;stroke-linecap:butt;stroke-linejoin:miter;stroke:rgb(26.666667%,26.666667%,26.666667%);stroke-opacity:1;stroke-miterlimit:10;\" d=\"M 271.0625 35.675781 L 337.195312 146.679688 \"/>\n",
       "<path style=\"fill:none;stroke-width:1;stroke-linecap:butt;stroke-linejoin:miter;stroke:rgb(26.666667%,26.666667%,26.666667%);stroke-opacity:1;stroke-miterlimit:10;\" d=\"M 334.378906 41.953125 L 337.195312 146.679688 \"/>\n",
       "<path style=\"fill:none;stroke-width:1;stroke-linecap:butt;stroke-linejoin:miter;stroke:rgb(26.666667%,26.666667%,26.666667%);stroke-opacity:1;stroke-miterlimit:10;\" d=\"M 169.054688 70.875 L 337.195312 146.679688 \"/>\n",
       "<path style=\"fill:none;stroke-width:1;stroke-linecap:butt;stroke-linejoin:miter;stroke:rgb(26.666667%,26.666667%,26.666667%);stroke-opacity:1;stroke-miterlimit:10;\" d=\"M 499.8125 154.238281 L 337.195312 146.679688 \"/>\n",
       "<path style=\"fill:none;stroke-width:1;stroke-linecap:butt;stroke-linejoin:miter;stroke:rgb(26.666667%,26.666667%,26.666667%);stroke-opacity:1;stroke-miterlimit:10;\" d=\"M 439.878906 80.449219 L 337.195312 146.679688 \"/>\n",
       "<path style=\"fill:none;stroke-width:1;stroke-linecap:butt;stroke-linejoin:miter;stroke:rgb(26.666667%,26.666667%,26.666667%);stroke-opacity:1;stroke-miterlimit:10;\" d=\"M 176.113281 176.558594 L 337.195312 146.679688 \"/>\n",
       "<path style=\"fill:none;stroke-width:1;stroke-linecap:butt;stroke-linejoin:miter;stroke:rgb(26.666667%,26.666667%,26.666667%);stroke-opacity:1;stroke-miterlimit:10;\" d=\"M 387.632812 280.097656 L 337.195312 146.679688 \"/>\n",
       "<path style=\"fill:none;stroke-width:1;stroke-linecap:butt;stroke-linejoin:miter;stroke:rgb(26.666667%,26.666667%,26.666667%);stroke-opacity:1;stroke-miterlimit:10;\" d=\"M 309.035156 253.191406 L 302.628906 145.160156 \"/>\n",
       "<path style=\"fill:none;stroke-width:1;stroke-linecap:butt;stroke-linejoin:miter;stroke:rgb(26.666667%,26.666667%,26.666667%);stroke-opacity:1;stroke-miterlimit:10;\" d=\"M 128.25 149.214844 L 302.628906 145.160156 \"/>\n",
       "<path style=\"fill:none;stroke-width:1;stroke-linecap:butt;stroke-linejoin:miter;stroke:rgb(26.666667%,26.666667%,26.666667%);stroke-opacity:1;stroke-miterlimit:10;\" d=\"M 170.851562 241.917969 L 302.628906 145.160156 \"/>\n",
       "<path style=\"fill:none;stroke-width:1;stroke-linecap:butt;stroke-linejoin:miter;stroke:rgb(26.666667%,26.666667%,26.666667%);stroke-opacity:1;stroke-miterlimit:10;\" d=\"M 215.890625 49.179688 L 302.628906 145.160156 \"/>\n",
       "<path style=\"fill:none;stroke-width:1;stroke-linecap:butt;stroke-linejoin:miter;stroke:rgb(26.666667%,26.666667%,26.666667%);stroke-opacity:1;stroke-miterlimit:10;\" d=\"M 479.59375 98.453125 L 302.628906 145.160156 \"/>\n",
       "<path style=\"fill:none;stroke-width:1;stroke-linecap:butt;stroke-linejoin:miter;stroke:rgb(26.666667%,26.666667%,26.666667%);stroke-opacity:1;stroke-miterlimit:10;\" d=\"M 271.0625 35.675781 L 302.628906 145.160156 \"/>\n",
       "<path style=\"fill:none;stroke-width:1;stroke-linecap:butt;stroke-linejoin:miter;stroke:rgb(26.666667%,26.666667%,26.666667%);stroke-opacity:1;stroke-miterlimit:10;\" d=\"M 222.863281 248.402344 L 302.628906 145.160156 \"/>\n",
       "<path style=\"fill:none;stroke-width:1;stroke-linecap:butt;stroke-linejoin:miter;stroke:rgb(26.666667%,26.666667%,26.666667%);stroke-opacity:1;stroke-miterlimit:10;\" d=\"M 334.378906 41.953125 L 302.628906 145.160156 \"/>\n",
       "<path style=\"fill:none;stroke-width:1;stroke-linecap:butt;stroke-linejoin:miter;stroke:rgb(26.666667%,26.666667%,26.666667%);stroke-opacity:1;stroke-miterlimit:10;\" d=\"M 169.054688 70.875 L 302.628906 145.160156 \"/>\n",
       "<path style=\"fill:none;stroke-width:1;stroke-linecap:butt;stroke-linejoin:miter;stroke:rgb(26.666667%,26.666667%,26.666667%);stroke-opacity:1;stroke-miterlimit:10;\" d=\"M 499.8125 154.238281 L 302.628906 145.160156 \"/>\n",
       "<path style=\"fill:none;stroke-width:1;stroke-linecap:butt;stroke-linejoin:miter;stroke:rgb(26.666667%,26.666667%,26.666667%);stroke-opacity:1;stroke-miterlimit:10;\" d=\"M 399.5 20 L 302.628906 145.160156 \"/>\n",
       "<path style=\"fill:none;stroke-width:1;stroke-linecap:butt;stroke-linejoin:miter;stroke:rgb(26.666667%,26.666667%,26.666667%);stroke-opacity:1;stroke-miterlimit:10;\" d=\"M 438.15625 231.632812 L 302.628906 145.160156 \"/>\n",
       "<path style=\"fill:none;stroke-width:1;stroke-linecap:butt;stroke-linejoin:miter;stroke:rgb(26.666667%,26.666667%,26.666667%);stroke-opacity:1;stroke-miterlimit:10;\" d=\"M 388.445312 206.542969 L 302.628906 145.160156 \"/>\n",
       "<path style=\"fill:none;stroke-width:1;stroke-linecap:butt;stroke-linejoin:miter;stroke:rgb(26.666667%,26.666667%,26.666667%);stroke-opacity:1;stroke-miterlimit:10;\" d=\"M 439.878906 80.449219 L 302.628906 145.160156 \"/>\n",
       "<path style=\"fill:none;stroke-width:1;stroke-linecap:butt;stroke-linejoin:miter;stroke:rgb(26.666667%,26.666667%,26.666667%);stroke-opacity:1;stroke-miterlimit:10;\" d=\"M 176.113281 176.558594 L 302.628906 145.160156 \"/>\n",
       "<path style=\"fill:none;stroke-width:1;stroke-linecap:butt;stroke-linejoin:miter;stroke:rgb(26.666667%,26.666667%,26.666667%);stroke-opacity:1;stroke-miterlimit:10;\" d=\"M 387.632812 280.097656 L 302.628906 145.160156 \"/>\n",
       "<path style=\"fill:none;stroke-width:1;stroke-linecap:butt;stroke-linejoin:miter;stroke:rgb(26.666667%,26.666667%,26.666667%);stroke-opacity:1;stroke-miterlimit:10;\" d=\"M 337.195312 146.679688 L 302.628906 145.160156 \"/>\n",
       "<path style=\"fill-rule:nonzero;fill:rgb(12.156863%,46.666667%,70.588235%);fill-opacity:1;stroke-width:1;stroke-linecap:butt;stroke-linejoin:miter;stroke:rgb(0%,0%,0%);stroke-opacity:1;stroke-miterlimit:10;\" d=\"M 245.117188 364.652344 C 245.117188 370.175781 240.636719 374.652344 235.117188 374.652344 C 229.59375 374.652344 225.117188 370.175781 225.117188 364.652344 C 225.117188 359.128906 229.59375 354.652344 235.117188 354.652344 C 240.636719 354.652344 245.117188 359.128906 245.117188 364.652344 \"/>\n",
       "<path style=\"fill-rule:nonzero;fill:rgb(12.156863%,46.666667%,70.588235%);fill-opacity:1;stroke-width:1;stroke-linecap:butt;stroke-linejoin:miter;stroke:rgb(0%,0%,0%);stroke-opacity:1;stroke-miterlimit:10;\" d=\"M 132.554688 298.125 C 132.554688 303.648438 128.074219 308.125 122.554688 308.125 C 117.03125 308.125 112.554688 303.648438 112.554688 298.125 C 112.554688 292.601562 117.03125 288.125 122.554688 288.125 C 128.074219 288.125 132.554688 292.601562 132.554688 298.125 \"/>\n",
       "<path style=\"fill-rule:nonzero;fill:rgb(12.156863%,46.666667%,70.588235%);fill-opacity:1;stroke-width:1;stroke-linecap:butt;stroke-linejoin:miter;stroke:rgb(0%,0%,0%);stroke-opacity:1;stroke-miterlimit:10;\" d=\"M 263.242188 267.128906 C 263.242188 272.652344 258.765625 277.128906 253.242188 277.128906 C 247.71875 277.128906 243.242188 272.652344 243.242188 267.128906 C 243.242188 261.605469 247.71875 257.128906 253.242188 257.128906 C 258.765625 257.128906 263.242188 261.605469 263.242188 267.128906 \"/>\n",
       "<path style=\"fill-rule:nonzero;fill:rgb(12.156863%,46.666667%,70.588235%);fill-opacity:1;stroke-width:1;stroke-linecap:butt;stroke-linejoin:miter;stroke:rgb(0%,0%,0%);stroke-opacity:1;stroke-miterlimit:10;\" d=\"M 176.179688 344.195312 C 176.179688 349.71875 171.703125 354.195312 166.179688 354.195312 C 160.65625 354.195312 156.179688 349.71875 156.179688 344.195312 C 156.179688 338.671875 160.65625 334.195312 166.179688 334.195312 C 171.703125 334.195312 176.179688 338.671875 176.179688 344.195312 \"/>\n",
       "<path style=\"fill-rule:nonzero;fill:rgb(100%,49.803922%,5.490196%);fill-opacity:1;stroke-width:1;stroke-linecap:butt;stroke-linejoin:miter;stroke:rgb(0%,0%,0%);stroke-opacity:1;stroke-miterlimit:10;\" d=\"M 373.90625 427.585938 C 373.90625 433.105469 369.429688 437.585938 363.90625 437.585938 C 358.382812 437.585938 353.90625 433.105469 353.90625 427.585938 C 353.90625 422.0625 358.382812 417.585938 363.90625 417.585938 C 369.429688 417.585938 373.90625 422.0625 373.90625 427.585938 \"/>\n",
       "<path style=\"fill-rule:nonzero;fill:rgb(100%,49.803922%,5.490196%);fill-opacity:1;stroke-width:1;stroke-linecap:butt;stroke-linejoin:miter;stroke:rgb(0%,0%,0%);stroke-opacity:1;stroke-miterlimit:10;\" d=\"M 373.25 465.128906 C 373.25 470.652344 368.773438 475.128906 363.25 475.128906 C 357.726562 475.128906 353.25 470.652344 353.25 465.128906 C 353.25 459.605469 357.726562 455.128906 363.25 455.128906 C 368.773438 455.128906 373.25 459.605469 373.25 465.128906 \"/>\n",
       "<path style=\"fill-rule:nonzero;fill:rgb(100%,49.803922%,5.490196%);fill-opacity:1;stroke-width:1;stroke-linecap:butt;stroke-linejoin:miter;stroke:rgb(0%,0%,0%);stroke-opacity:1;stroke-miterlimit:10;\" d=\"M 297.578125 489.496094 C 297.578125 495.019531 293.101562 499.496094 287.578125 499.496094 C 282.054688 499.496094 277.578125 495.019531 277.578125 489.496094 C 277.578125 483.976562 282.054688 479.496094 287.578125 479.496094 C 293.101562 479.496094 297.578125 483.976562 297.578125 489.496094 \"/>\n",
       "<path style=\"fill-rule:nonzero;fill:rgb(12.156863%,46.666667%,70.588235%);fill-opacity:1;stroke-width:1;stroke-linecap:butt;stroke-linejoin:miter;stroke:rgb(0%,0%,0%);stroke-opacity:1;stroke-miterlimit:10;\" d=\"M 78.210938 301.425781 C 78.210938 306.949219 73.730469 311.425781 68.210938 311.425781 C 62.6875 311.425781 58.210938 306.949219 58.210938 301.425781 C 58.210938 295.90625 62.6875 291.425781 68.210938 291.425781 C 73.730469 291.425781 78.210938 295.90625 78.210938 301.425781 \"/>\n",
       "<path style=\"fill-rule:nonzero;fill:rgb(17.254902%,62.745098%,17.254902%);fill-opacity:1;stroke-width:1;stroke-linecap:butt;stroke-linejoin:miter;stroke:rgb(0%,0%,0%);stroke-opacity:1;stroke-miterlimit:10;\" d=\"M 319.035156 253.191406 C 319.035156 258.714844 314.558594 263.191406 309.035156 263.191406 C 303.515625 263.191406 299.035156 258.714844 299.035156 253.191406 C 299.035156 247.667969 303.515625 243.191406 309.035156 243.191406 C 314.558594 243.191406 319.035156 247.667969 319.035156 253.191406 \"/>\n",
       "<path style=\"fill-rule:nonzero;fill:rgb(17.254902%,62.745098%,17.254902%);fill-opacity:1;stroke-width:1;stroke-linecap:butt;stroke-linejoin:miter;stroke:rgb(0%,0%,0%);stroke-opacity:1;stroke-miterlimit:10;\" d=\"M 138.25 149.214844 C 138.25 154.738281 133.773438 159.214844 128.25 159.214844 C 122.726562 159.214844 118.25 154.738281 118.25 149.214844 C 118.25 143.691406 122.726562 139.214844 128.25 139.214844 C 133.773438 139.214844 138.25 143.691406 138.25 149.214844 \"/>\n",
       "<path style=\"fill-rule:nonzero;fill:rgb(100%,49.803922%,5.490196%);fill-opacity:1;stroke-width:1;stroke-linecap:butt;stroke-linejoin:miter;stroke:rgb(0%,0%,0%);stroke-opacity:1;stroke-miterlimit:10;\" d=\"M 259.070312 464.855469 C 259.070312 470.378906 254.59375 474.855469 249.070312 474.855469 C 243.546875 474.855469 239.070312 470.378906 239.070312 464.855469 C 239.070312 459.335938 243.546875 454.855469 249.070312 454.855469 C 254.59375 454.855469 259.070312 459.335938 259.070312 464.855469 \"/>\n",
       "<path style=\"fill-rule:nonzero;fill:rgb(12.156863%,46.666667%,70.588235%);fill-opacity:1;stroke-width:1;stroke-linecap:butt;stroke-linejoin:miter;stroke:rgb(0%,0%,0%);stroke-opacity:1;stroke-miterlimit:10;\" d=\"M 104.945312 461.964844 C 104.945312 467.488281 100.46875 471.964844 94.945312 471.964844 C 89.421875 471.964844 84.945312 467.488281 84.945312 461.964844 C 84.945312 456.441406 89.421875 451.964844 94.945312 451.964844 C 100.46875 451.964844 104.945312 456.441406 104.945312 461.964844 \"/>\n",
       "<path style=\"fill-rule:nonzero;fill:rgb(12.156863%,46.666667%,70.588235%);fill-opacity:1;stroke-width:1;stroke-linecap:butt;stroke-linejoin:miter;stroke:rgb(0%,0%,0%);stroke-opacity:1;stroke-miterlimit:10;\" d=\"M 166.363281 453.585938 C 166.363281 459.109375 161.882812 463.585938 156.363281 463.585938 C 150.839844 463.585938 146.363281 459.109375 146.363281 453.585938 C 146.363281 448.066406 150.839844 443.585938 156.363281 443.585938 C 161.882812 443.585938 166.363281 448.066406 166.363281 453.585938 \"/>\n",
       "<path style=\"fill-rule:nonzero;fill:rgb(12.156863%,46.666667%,70.588235%);fill-opacity:1;stroke-width:1;stroke-linecap:butt;stroke-linejoin:miter;stroke:rgb(0%,0%,0%);stroke-opacity:1;stroke-miterlimit:10;\" d=\"M 180.851562 241.917969 C 180.851562 247.441406 176.375 251.917969 170.851562 251.917969 C 165.328125 251.917969 160.851562 247.441406 160.851562 241.917969 C 160.851562 236.394531 165.328125 231.917969 170.851562 231.917969 C 176.375 231.917969 180.851562 236.394531 180.851562 241.917969 \"/>\n",
       "<path style=\"fill-rule:nonzero;fill:rgb(17.254902%,62.745098%,17.254902%);fill-opacity:1;stroke-width:1;stroke-linecap:butt;stroke-linejoin:miter;stroke:rgb(0%,0%,0%);stroke-opacity:1;stroke-miterlimit:10;\" d=\"M 225.890625 49.179688 C 225.890625 54.703125 221.410156 59.179688 215.890625 59.179688 C 210.367188 59.179688 205.890625 54.703125 205.890625 49.179688 C 205.890625 43.65625 210.367188 39.179688 215.890625 39.179688 C 221.410156 39.179688 225.890625 43.65625 225.890625 49.179688 \"/>\n",
       "<path style=\"fill-rule:nonzero;fill:rgb(17.254902%,62.745098%,17.254902%);fill-opacity:1;stroke-width:1;stroke-linecap:butt;stroke-linejoin:miter;stroke:rgb(0%,0%,0%);stroke-opacity:1;stroke-miterlimit:10;\" d=\"M 489.59375 98.453125 C 489.59375 103.976562 485.117188 108.453125 479.59375 108.453125 C 474.070312 108.453125 469.59375 103.976562 469.59375 98.453125 C 469.59375 92.929688 474.070312 88.453125 479.59375 88.453125 C 485.117188 88.453125 489.59375 92.929688 489.59375 98.453125 \"/>\n",
       "<path style=\"fill-rule:nonzero;fill:rgb(100%,49.803922%,5.490196%);fill-opacity:1;stroke-width:1;stroke-linecap:butt;stroke-linejoin:miter;stroke:rgb(0%,0%,0%);stroke-opacity:1;stroke-miterlimit:10;\" d=\"M 390.480469 580 C 390.480469 585.523438 386.003906 590 380.480469 590 C 374.957031 590 370.480469 585.523438 370.480469 580 C 370.480469 574.476562 374.957031 570 380.480469 570 C 386.003906 570 390.480469 574.476562 390.480469 580 \"/>\n",
       "<path style=\"fill-rule:nonzero;fill:rgb(12.156863%,46.666667%,70.588235%);fill-opacity:1;stroke-width:1;stroke-linecap:butt;stroke-linejoin:miter;stroke:rgb(0%,0%,0%);stroke-opacity:1;stroke-miterlimit:10;\" d=\"M 30 366.128906 C 30 371.652344 25.523438 376.128906 20 376.128906 C 14.476562 376.128906 10 371.652344 10 366.128906 C 10 360.605469 14.476562 356.128906 20 356.128906 C 25.523438 356.128906 30 360.605469 30 366.128906 \"/>\n",
       "<path style=\"fill-rule:nonzero;fill:rgb(17.254902%,62.745098%,17.254902%);fill-opacity:1;stroke-width:1;stroke-linecap:butt;stroke-linejoin:miter;stroke:rgb(0%,0%,0%);stroke-opacity:1;stroke-miterlimit:10;\" d=\"M 281.0625 35.675781 C 281.0625 41.199219 276.585938 45.675781 271.0625 45.675781 C 265.539062 45.675781 261.0625 41.199219 261.0625 35.675781 C 261.0625 30.152344 265.539062 25.675781 271.0625 25.675781 C 276.585938 25.675781 281.0625 30.152344 281.0625 35.675781 \"/>\n",
       "<path style=\"fill-rule:nonzero;fill:rgb(12.156863%,46.666667%,70.588235%);fill-opacity:1;stroke-width:1;stroke-linecap:butt;stroke-linejoin:miter;stroke:rgb(0%,0%,0%);stroke-opacity:1;stroke-miterlimit:10;\" d=\"M 232.863281 248.402344 C 232.863281 253.921875 228.386719 258.402344 222.863281 258.402344 C 217.339844 258.402344 212.863281 253.921875 212.863281 248.402344 C 212.863281 242.878906 217.339844 238.402344 222.863281 238.402344 C 228.386719 238.402344 232.863281 242.878906 232.863281 248.402344 \"/>\n",
       "<path style=\"fill-rule:nonzero;fill:rgb(17.254902%,62.745098%,17.254902%);fill-opacity:1;stroke-width:1;stroke-linecap:butt;stroke-linejoin:miter;stroke:rgb(0%,0%,0%);stroke-opacity:1;stroke-miterlimit:10;\" d=\"M 344.378906 41.953125 C 344.378906 47.476562 339.902344 51.953125 334.378906 51.953125 C 328.855469 51.953125 324.378906 47.476562 324.378906 41.953125 C 324.378906 36.429688 328.855469 31.953125 334.378906 31.953125 C 339.902344 31.953125 344.378906 36.429688 344.378906 41.953125 \"/>\n",
       "<path style=\"fill-rule:nonzero;fill:rgb(12.156863%,46.666667%,70.588235%);fill-opacity:1;stroke-width:1;stroke-linecap:butt;stroke-linejoin:miter;stroke:rgb(0%,0%,0%);stroke-opacity:1;stroke-miterlimit:10;\" d=\"M 71.539062 401.167969 C 71.539062 406.691406 67.058594 411.167969 61.539062 411.167969 C 56.015625 411.167969 51.539062 406.691406 51.539062 401.167969 C 51.539062 395.644531 56.015625 391.167969 61.539062 391.167969 C 67.058594 391.167969 71.539062 395.644531 71.539062 401.167969 \"/>\n",
       "<path style=\"fill-rule:nonzero;fill:rgb(17.254902%,62.745098%,17.254902%);fill-opacity:1;stroke-width:1;stroke-linecap:butt;stroke-linejoin:miter;stroke:rgb(0%,0%,0%);stroke-opacity:1;stroke-miterlimit:10;\" d=\"M 179.054688 70.875 C 179.054688 76.398438 174.578125 80.875 169.054688 80.875 C 163.535156 80.875 159.054688 76.398438 159.054688 70.875 C 159.054688 65.351562 163.535156 60.875 169.054688 60.875 C 174.578125 60.875 179.054688 65.351562 179.054688 70.875 \"/>\n",
       "<path style=\"fill-rule:nonzero;fill:rgb(83.921569%,15.294118%,15.686275%);fill-opacity:1;stroke-width:1;stroke-linecap:butt;stroke-linejoin:miter;stroke:rgb(0%,0%,0%);stroke-opacity:1;stroke-miterlimit:10;\" d=\"M 509.8125 154.238281 C 509.8125 159.761719 505.332031 164.238281 499.8125 164.238281 C 494.289062 164.238281 489.8125 159.761719 489.8125 154.238281 C 489.8125 148.714844 494.289062 144.238281 499.8125 144.238281 C 505.332031 144.238281 509.8125 148.714844 509.8125 154.238281 \"/>\n",
       "<path style=\"fill-rule:nonzero;fill:rgb(83.921569%,15.294118%,15.686275%);fill-opacity:1;stroke-width:1;stroke-linecap:butt;stroke-linejoin:miter;stroke:rgb(0%,0%,0%);stroke-opacity:1;stroke-miterlimit:10;\" d=\"M 553.722656 320.722656 C 553.722656 326.242188 549.246094 330.722656 543.722656 330.722656 C 538.199219 330.722656 533.722656 326.242188 533.722656 320.722656 C 533.722656 315.199219 538.199219 310.722656 543.722656 310.722656 C 549.246094 310.722656 553.722656 315.199219 553.722656 320.722656 \"/>\n",
       "<path style=\"fill-rule:nonzero;fill:rgb(83.921569%,15.294118%,15.686275%);fill-opacity:1;stroke-width:1;stroke-linecap:butt;stroke-linejoin:miter;stroke:rgb(0%,0%,0%);stroke-opacity:1;stroke-miterlimit:10;\" d=\"M 590 255.324219 C 590 260.847656 585.523438 265.324219 580 265.324219 C 574.476562 265.324219 570 260.847656 570 255.324219 C 570 249.800781 574.476562 245.324219 580 245.324219 C 585.523438 245.324219 590 249.800781 590 255.324219 \"/>\n",
       "<path style=\"fill-rule:nonzero;fill:rgb(17.254902%,62.745098%,17.254902%);fill-opacity:1;stroke-width:1;stroke-linecap:butt;stroke-linejoin:miter;stroke:rgb(0%,0%,0%);stroke-opacity:1;stroke-miterlimit:10;\" d=\"M 409.5 20 C 409.5 25.523438 405.023438 30 399.5 30 C 393.976562 30 389.5 25.523438 389.5 20 C 389.5 14.476562 393.976562 10 399.5 10 C 405.023438 10 409.5 14.476562 409.5 20 \"/>\n",
       "<path style=\"fill-rule:nonzero;fill:rgb(83.921569%,15.294118%,15.686275%);fill-opacity:1;stroke-width:1;stroke-linecap:butt;stroke-linejoin:miter;stroke:rgb(0%,0%,0%);stroke-opacity:1;stroke-miterlimit:10;\" d=\"M 448.15625 231.632812 C 448.15625 237.152344 443.679688 241.632812 438.15625 241.632812 C 432.632812 241.632812 428.15625 237.152344 428.15625 231.632812 C 428.15625 226.109375 432.632812 221.632812 438.15625 221.632812 C 443.679688 221.632812 448.15625 226.109375 448.15625 231.632812 \"/>\n",
       "<path style=\"fill-rule:nonzero;fill:rgb(83.921569%,15.294118%,15.686275%);fill-opacity:1;stroke-width:1;stroke-linecap:butt;stroke-linejoin:miter;stroke:rgb(0%,0%,0%);stroke-opacity:1;stroke-miterlimit:10;\" d=\"M 398.445312 206.542969 C 398.445312 212.066406 393.96875 216.542969 388.445312 216.542969 C 382.921875 216.542969 378.445312 212.066406 378.445312 206.542969 C 378.445312 201.019531 382.921875 196.542969 388.445312 196.542969 C 393.96875 196.542969 398.445312 201.019531 398.445312 206.542969 \"/>\n",
       "<path style=\"fill-rule:nonzero;fill:rgb(17.254902%,62.745098%,17.254902%);fill-opacity:1;stroke-width:1;stroke-linecap:butt;stroke-linejoin:miter;stroke:rgb(0%,0%,0%);stroke-opacity:1;stroke-miterlimit:10;\" d=\"M 449.878906 80.449219 C 449.878906 85.972656 445.402344 90.449219 439.878906 90.449219 C 434.355469 90.449219 429.878906 85.972656 429.878906 80.449219 C 429.878906 74.925781 434.355469 70.449219 439.878906 70.449219 C 445.402344 70.449219 449.878906 74.925781 449.878906 80.449219 \"/>\n",
       "<path style=\"fill-rule:nonzero;fill:rgb(17.254902%,62.745098%,17.254902%);fill-opacity:1;stroke-width:1;stroke-linecap:butt;stroke-linejoin:miter;stroke:rgb(0%,0%,0%);stroke-opacity:1;stroke-miterlimit:10;\" d=\"M 186.113281 176.558594 C 186.113281 182.082031 181.636719 186.558594 176.113281 186.558594 C 170.589844 186.558594 166.113281 182.082031 166.113281 176.558594 C 166.113281 171.039062 170.589844 166.558594 176.113281 166.558594 C 181.636719 166.558594 186.113281 171.039062 186.113281 176.558594 \"/>\n",
       "<path style=\"fill-rule:nonzero;fill:rgb(83.921569%,15.294118%,15.686275%);fill-opacity:1;stroke-width:1;stroke-linecap:butt;stroke-linejoin:miter;stroke:rgb(0%,0%,0%);stroke-opacity:1;stroke-miterlimit:10;\" d=\"M 397.632812 280.097656 C 397.632812 285.621094 393.15625 290.097656 387.632812 290.097656 C 382.109375 290.097656 377.632812 285.621094 377.632812 280.097656 C 377.632812 274.574219 382.109375 270.097656 387.632812 270.097656 C 393.15625 270.097656 397.632812 274.574219 397.632812 280.097656 \"/>\n",
       "<path style=\"fill-rule:nonzero;fill:rgb(17.254902%,62.745098%,17.254902%);fill-opacity:1;stroke-width:1;stroke-linecap:butt;stroke-linejoin:miter;stroke:rgb(0%,0%,0%);stroke-opacity:1;stroke-miterlimit:10;\" d=\"M 347.195312 146.679688 C 347.195312 152.203125 342.71875 156.679688 337.195312 156.679688 C 331.675781 156.679688 327.195312 152.203125 327.195312 146.679688 C 327.195312 141.15625 331.675781 136.679688 337.195312 136.679688 C 342.71875 136.679688 347.195312 141.15625 347.195312 146.679688 \"/>\n",
       "<path style=\"fill-rule:nonzero;fill:rgb(17.254902%,62.745098%,17.254902%);fill-opacity:1;stroke-width:1;stroke-linecap:butt;stroke-linejoin:miter;stroke:rgb(0%,0%,0%);stroke-opacity:1;stroke-miterlimit:10;\" d=\"M 312.628906 145.160156 C 312.628906 150.683594 308.148438 155.160156 302.628906 155.160156 C 297.105469 155.160156 292.628906 150.683594 292.628906 145.160156 C 292.628906 139.636719 297.105469 135.160156 302.628906 135.160156 C 308.148438 135.160156 312.628906 139.636719 312.628906 145.160156 \"/>\n",
       "</g>\n",
       "</svg>\n"
      ],
      "text/plain": [
       "<igraph.drawing.Plot at 0x7f044bafd400>"
      ]
     },
     "execution_count": 15,
     "metadata": {},
     "output_type": "execute_result"
    }
   ],
   "source": [
    "igraph.plot(g_karate,\n",
    "           vertex_color = [cmap[c] for c in part1_karate], layout=layout)"
   ]
  },
  {
   "cell_type": "code",
   "execution_count": 16,
   "metadata": {},
   "outputs": [
    {
     "data": {
      "image/svg+xml": [
       "<?xml version=\"1.0\" encoding=\"UTF-8\"?>\n",
       "<svg xmlns=\"http://www.w3.org/2000/svg\" xmlns:xlink=\"http://www.w3.org/1999/xlink\" width=\"600pt\" height=\"600pt\" viewBox=\"0 0 600 600\" version=\"1.1\">\n",
       "<g id=\"surface8\">\n",
       "<rect x=\"0\" y=\"0\" width=\"600\" height=\"600\" style=\"fill:rgb(100%,100%,100%);fill-opacity:1;stroke:none;\"/>\n",
       "<path style=\"fill:none;stroke-width:1;stroke-linecap:butt;stroke-linejoin:miter;stroke:rgb(26.666667%,26.666667%,26.666667%);stroke-opacity:1;stroke-miterlimit:10;\" d=\"M 235.117188 364.652344 L 122.554688 298.125 \"/>\n",
       "<path style=\"fill:none;stroke-width:1;stroke-linecap:butt;stroke-linejoin:miter;stroke:rgb(26.666667%,26.666667%,26.666667%);stroke-opacity:1;stroke-miterlimit:10;\" d=\"M 235.117188 364.652344 L 253.242188 267.128906 \"/>\n",
       "<path style=\"fill:none;stroke-width:1;stroke-linecap:butt;stroke-linejoin:miter;stroke:rgb(26.666667%,26.666667%,26.666667%);stroke-opacity:1;stroke-miterlimit:10;\" d=\"M 122.554688 298.125 L 253.242188 267.128906 \"/>\n",
       "<path style=\"fill:none;stroke-width:1;stroke-linecap:butt;stroke-linejoin:miter;stroke:rgb(26.666667%,26.666667%,26.666667%);stroke-opacity:1;stroke-miterlimit:10;\" d=\"M 235.117188 364.652344 L 166.179688 344.195312 \"/>\n",
       "<path style=\"fill:none;stroke-width:1;stroke-linecap:butt;stroke-linejoin:miter;stroke:rgb(26.666667%,26.666667%,26.666667%);stroke-opacity:1;stroke-miterlimit:10;\" d=\"M 122.554688 298.125 L 166.179688 344.195312 \"/>\n",
       "<path style=\"fill:none;stroke-width:1;stroke-linecap:butt;stroke-linejoin:miter;stroke:rgb(26.666667%,26.666667%,26.666667%);stroke-opacity:1;stroke-miterlimit:10;\" d=\"M 253.242188 267.128906 L 166.179688 344.195312 \"/>\n",
       "<path style=\"fill:none;stroke-width:1;stroke-linecap:butt;stroke-linejoin:miter;stroke:rgb(26.666667%,26.666667%,26.666667%);stroke-opacity:1;stroke-miterlimit:10;\" d=\"M 235.117188 364.652344 L 363.90625 427.585938 \"/>\n",
       "<path style=\"fill:none;stroke-width:1;stroke-linecap:butt;stroke-linejoin:miter;stroke:rgb(26.666667%,26.666667%,26.666667%);stroke-opacity:1;stroke-miterlimit:10;\" d=\"M 235.117188 364.652344 L 363.25 465.128906 \"/>\n",
       "<path style=\"fill:none;stroke-width:1;stroke-linecap:butt;stroke-linejoin:miter;stroke:rgb(26.666667%,26.666667%,26.666667%);stroke-opacity:1;stroke-miterlimit:10;\" d=\"M 235.117188 364.652344 L 287.578125 489.496094 \"/>\n",
       "<path style=\"fill:none;stroke-width:1;stroke-linecap:butt;stroke-linejoin:miter;stroke:rgb(26.666667%,26.666667%,26.666667%);stroke-opacity:1;stroke-miterlimit:10;\" d=\"M 363.90625 427.585938 L 287.578125 489.496094 \"/>\n",
       "<path style=\"fill:none;stroke-width:1;stroke-linecap:butt;stroke-linejoin:miter;stroke:rgb(26.666667%,26.666667%,26.666667%);stroke-opacity:1;stroke-miterlimit:10;\" d=\"M 363.25 465.128906 L 287.578125 489.496094 \"/>\n",
       "<path style=\"fill:none;stroke-width:1;stroke-linecap:butt;stroke-linejoin:miter;stroke:rgb(26.666667%,26.666667%,26.666667%);stroke-opacity:1;stroke-miterlimit:10;\" d=\"M 235.117188 364.652344 L 68.210938 301.425781 \"/>\n",
       "<path style=\"fill:none;stroke-width:1;stroke-linecap:butt;stroke-linejoin:miter;stroke:rgb(26.666667%,26.666667%,26.666667%);stroke-opacity:1;stroke-miterlimit:10;\" d=\"M 122.554688 298.125 L 68.210938 301.425781 \"/>\n",
       "<path style=\"fill:none;stroke-width:1;stroke-linecap:butt;stroke-linejoin:miter;stroke:rgb(26.666667%,26.666667%,26.666667%);stroke-opacity:1;stroke-miterlimit:10;\" d=\"M 253.242188 267.128906 L 68.210938 301.425781 \"/>\n",
       "<path style=\"fill:none;stroke-width:1;stroke-linecap:butt;stroke-linejoin:miter;stroke:rgb(26.666667%,26.666667%,26.666667%);stroke-opacity:1;stroke-miterlimit:10;\" d=\"M 166.179688 344.195312 L 68.210938 301.425781 \"/>\n",
       "<path style=\"fill:none;stroke-width:1;stroke-linecap:butt;stroke-linejoin:miter;stroke:rgb(26.666667%,26.666667%,26.666667%);stroke-opacity:1;stroke-miterlimit:10;\" d=\"M 235.117188 364.652344 L 309.035156 253.191406 \"/>\n",
       "<path style=\"fill:none;stroke-width:1;stroke-linecap:butt;stroke-linejoin:miter;stroke:rgb(26.666667%,26.666667%,26.666667%);stroke-opacity:1;stroke-miterlimit:10;\" d=\"M 253.242188 267.128906 L 309.035156 253.191406 \"/>\n",
       "<path style=\"fill:none;stroke-width:1;stroke-linecap:butt;stroke-linejoin:miter;stroke:rgb(26.666667%,26.666667%,26.666667%);stroke-opacity:1;stroke-miterlimit:10;\" d=\"M 253.242188 267.128906 L 128.25 149.214844 \"/>\n",
       "<path style=\"fill:none;stroke-width:1;stroke-linecap:butt;stroke-linejoin:miter;stroke:rgb(26.666667%,26.666667%,26.666667%);stroke-opacity:1;stroke-miterlimit:10;\" d=\"M 235.117188 364.652344 L 249.070312 464.855469 \"/>\n",
       "<path style=\"fill:none;stroke-width:1;stroke-linecap:butt;stroke-linejoin:miter;stroke:rgb(26.666667%,26.666667%,26.666667%);stroke-opacity:1;stroke-miterlimit:10;\" d=\"M 363.90625 427.585938 L 249.070312 464.855469 \"/>\n",
       "<path style=\"fill:none;stroke-width:1;stroke-linecap:butt;stroke-linejoin:miter;stroke:rgb(26.666667%,26.666667%,26.666667%);stroke-opacity:1;stroke-miterlimit:10;\" d=\"M 363.25 465.128906 L 249.070312 464.855469 \"/>\n",
       "<path style=\"fill:none;stroke-width:1;stroke-linecap:butt;stroke-linejoin:miter;stroke:rgb(26.666667%,26.666667%,26.666667%);stroke-opacity:1;stroke-miterlimit:10;\" d=\"M 235.117188 364.652344 L 94.945312 461.964844 \"/>\n",
       "<path style=\"fill:none;stroke-width:1;stroke-linecap:butt;stroke-linejoin:miter;stroke:rgb(26.666667%,26.666667%,26.666667%);stroke-opacity:1;stroke-miterlimit:10;\" d=\"M 235.117188 364.652344 L 156.363281 453.585938 \"/>\n",
       "<path style=\"fill:none;stroke-width:1;stroke-linecap:butt;stroke-linejoin:miter;stroke:rgb(26.666667%,26.666667%,26.666667%);stroke-opacity:1;stroke-miterlimit:10;\" d=\"M 166.179688 344.195312 L 156.363281 453.585938 \"/>\n",
       "<path style=\"fill:none;stroke-width:1;stroke-linecap:butt;stroke-linejoin:miter;stroke:rgb(26.666667%,26.666667%,26.666667%);stroke-opacity:1;stroke-miterlimit:10;\" d=\"M 235.117188 364.652344 L 170.851562 241.917969 \"/>\n",
       "<path style=\"fill:none;stroke-width:1;stroke-linecap:butt;stroke-linejoin:miter;stroke:rgb(26.666667%,26.666667%,26.666667%);stroke-opacity:1;stroke-miterlimit:10;\" d=\"M 122.554688 298.125 L 170.851562 241.917969 \"/>\n",
       "<path style=\"fill:none;stroke-width:1;stroke-linecap:butt;stroke-linejoin:miter;stroke:rgb(26.666667%,26.666667%,26.666667%);stroke-opacity:1;stroke-miterlimit:10;\" d=\"M 253.242188 267.128906 L 170.851562 241.917969 \"/>\n",
       "<path style=\"fill:none;stroke-width:1;stroke-linecap:butt;stroke-linejoin:miter;stroke:rgb(26.666667%,26.666667%,26.666667%);stroke-opacity:1;stroke-miterlimit:10;\" d=\"M 166.179688 344.195312 L 170.851562 241.917969 \"/>\n",
       "<path style=\"fill:none;stroke-width:1;stroke-linecap:butt;stroke-linejoin:miter;stroke:rgb(26.666667%,26.666667%,26.666667%);stroke-opacity:1;stroke-miterlimit:10;\" d=\"M 363.25 465.128906 L 380.480469 580 \"/>\n",
       "<path style=\"fill:none;stroke-width:1;stroke-linecap:butt;stroke-linejoin:miter;stroke:rgb(26.666667%,26.666667%,26.666667%);stroke-opacity:1;stroke-miterlimit:10;\" d=\"M 287.578125 489.496094 L 380.480469 580 \"/>\n",
       "<path style=\"fill:none;stroke-width:1;stroke-linecap:butt;stroke-linejoin:miter;stroke:rgb(26.666667%,26.666667%,26.666667%);stroke-opacity:1;stroke-miterlimit:10;\" d=\"M 235.117188 364.652344 L 20 366.128906 \"/>\n",
       "<path style=\"fill:none;stroke-width:1;stroke-linecap:butt;stroke-linejoin:miter;stroke:rgb(26.666667%,26.666667%,26.666667%);stroke-opacity:1;stroke-miterlimit:10;\" d=\"M 122.554688 298.125 L 20 366.128906 \"/>\n",
       "<path style=\"fill:none;stroke-width:1;stroke-linecap:butt;stroke-linejoin:miter;stroke:rgb(26.666667%,26.666667%,26.666667%);stroke-opacity:1;stroke-miterlimit:10;\" d=\"M 235.117188 364.652344 L 222.863281 248.402344 \"/>\n",
       "<path style=\"fill:none;stroke-width:1;stroke-linecap:butt;stroke-linejoin:miter;stroke:rgb(26.666667%,26.666667%,26.666667%);stroke-opacity:1;stroke-miterlimit:10;\" d=\"M 122.554688 298.125 L 222.863281 248.402344 \"/>\n",
       "<path style=\"fill:none;stroke-width:1;stroke-linecap:butt;stroke-linejoin:miter;stroke:rgb(26.666667%,26.666667%,26.666667%);stroke-opacity:1;stroke-miterlimit:10;\" d=\"M 235.117188 364.652344 L 61.539062 401.167969 \"/>\n",
       "<path style=\"fill:none;stroke-width:1;stroke-linecap:butt;stroke-linejoin:miter;stroke:rgb(26.666667%,26.666667%,26.666667%);stroke-opacity:1;stroke-miterlimit:10;\" d=\"M 122.554688 298.125 L 61.539062 401.167969 \"/>\n",
       "<path style=\"fill:none;stroke-width:1;stroke-linecap:butt;stroke-linejoin:miter;stroke:rgb(26.666667%,26.666667%,26.666667%);stroke-opacity:1;stroke-miterlimit:10;\" d=\"M 499.8125 154.238281 L 580 255.324219 \"/>\n",
       "<path style=\"fill:none;stroke-width:1;stroke-linecap:butt;stroke-linejoin:miter;stroke:rgb(26.666667%,26.666667%,26.666667%);stroke-opacity:1;stroke-miterlimit:10;\" d=\"M 543.722656 320.722656 L 580 255.324219 \"/>\n",
       "<path style=\"fill:none;stroke-width:1;stroke-linecap:butt;stroke-linejoin:miter;stroke:rgb(26.666667%,26.666667%,26.666667%);stroke-opacity:1;stroke-miterlimit:10;\" d=\"M 253.242188 267.128906 L 438.15625 231.632812 \"/>\n",
       "<path style=\"fill:none;stroke-width:1;stroke-linecap:butt;stroke-linejoin:miter;stroke:rgb(26.666667%,26.666667%,26.666667%);stroke-opacity:1;stroke-miterlimit:10;\" d=\"M 499.8125 154.238281 L 438.15625 231.632812 \"/>\n",
       "<path style=\"fill:none;stroke-width:1;stroke-linecap:butt;stroke-linejoin:miter;stroke:rgb(26.666667%,26.666667%,26.666667%);stroke-opacity:1;stroke-miterlimit:10;\" d=\"M 543.722656 320.722656 L 438.15625 231.632812 \"/>\n",
       "<path style=\"fill:none;stroke-width:1;stroke-linecap:butt;stroke-linejoin:miter;stroke:rgb(26.666667%,26.666667%,26.666667%);stroke-opacity:1;stroke-miterlimit:10;\" d=\"M 253.242188 267.128906 L 388.445312 206.542969 \"/>\n",
       "<path style=\"fill:none;stroke-width:1;stroke-linecap:butt;stroke-linejoin:miter;stroke:rgb(26.666667%,26.666667%,26.666667%);stroke-opacity:1;stroke-miterlimit:10;\" d=\"M 499.8125 154.238281 L 439.878906 80.449219 \"/>\n",
       "<path style=\"fill:none;stroke-width:1;stroke-linecap:butt;stroke-linejoin:miter;stroke:rgb(26.666667%,26.666667%,26.666667%);stroke-opacity:1;stroke-miterlimit:10;\" d=\"M 399.5 20 L 439.878906 80.449219 \"/>\n",
       "<path style=\"fill:none;stroke-width:1;stroke-linecap:butt;stroke-linejoin:miter;stroke:rgb(26.666667%,26.666667%,26.666667%);stroke-opacity:1;stroke-miterlimit:10;\" d=\"M 122.554688 298.125 L 176.113281 176.558594 \"/>\n",
       "<path style=\"fill:none;stroke-width:1;stroke-linecap:butt;stroke-linejoin:miter;stroke:rgb(26.666667%,26.666667%,26.666667%);stroke-opacity:1;stroke-miterlimit:10;\" d=\"M 309.035156 253.191406 L 176.113281 176.558594 \"/>\n",
       "<path style=\"fill:none;stroke-width:1;stroke-linecap:butt;stroke-linejoin:miter;stroke:rgb(26.666667%,26.666667%,26.666667%);stroke-opacity:1;stroke-miterlimit:10;\" d=\"M 235.117188 364.652344 L 387.632812 280.097656 \"/>\n",
       "<path style=\"fill:none;stroke-width:1;stroke-linecap:butt;stroke-linejoin:miter;stroke:rgb(26.666667%,26.666667%,26.666667%);stroke-opacity:1;stroke-miterlimit:10;\" d=\"M 543.722656 320.722656 L 387.632812 280.097656 \"/>\n",
       "<path style=\"fill:none;stroke-width:1;stroke-linecap:butt;stroke-linejoin:miter;stroke:rgb(26.666667%,26.666667%,26.666667%);stroke-opacity:1;stroke-miterlimit:10;\" d=\"M 580 255.324219 L 387.632812 280.097656 \"/>\n",
       "<path style=\"fill:none;stroke-width:1;stroke-linecap:butt;stroke-linejoin:miter;stroke:rgb(26.666667%,26.666667%,26.666667%);stroke-opacity:1;stroke-miterlimit:10;\" d=\"M 388.445312 206.542969 L 387.632812 280.097656 \"/>\n",
       "<path style=\"fill:none;stroke-width:1;stroke-linecap:butt;stroke-linejoin:miter;stroke:rgb(26.666667%,26.666667%,26.666667%);stroke-opacity:1;stroke-miterlimit:10;\" d=\"M 253.242188 267.128906 L 337.195312 146.679688 \"/>\n",
       "<path style=\"fill:none;stroke-width:1;stroke-linecap:butt;stroke-linejoin:miter;stroke:rgb(26.666667%,26.666667%,26.666667%);stroke-opacity:1;stroke-miterlimit:10;\" d=\"M 309.035156 253.191406 L 337.195312 146.679688 \"/>\n",
       "<path style=\"fill:none;stroke-width:1;stroke-linecap:butt;stroke-linejoin:miter;stroke:rgb(26.666667%,26.666667%,26.666667%);stroke-opacity:1;stroke-miterlimit:10;\" d=\"M 215.890625 49.179688 L 337.195312 146.679688 \"/>\n",
       "<path style=\"fill:none;stroke-width:1;stroke-linecap:butt;stroke-linejoin:miter;stroke:rgb(26.666667%,26.666667%,26.666667%);stroke-opacity:1;stroke-miterlimit:10;\" d=\"M 479.59375 98.453125 L 337.195312 146.679688 \"/>\n",
       "<path style=\"fill:none;stroke-width:1;stroke-linecap:butt;stroke-linejoin:miter;stroke:rgb(26.666667%,26.666667%,26.666667%);stroke-opacity:1;stroke-miterlimit:10;\" d=\"M 271.0625 35.675781 L 337.195312 146.679688 \"/>\n",
       "<path style=\"fill:none;stroke-width:1;stroke-linecap:butt;stroke-linejoin:miter;stroke:rgb(26.666667%,26.666667%,26.666667%);stroke-opacity:1;stroke-miterlimit:10;\" d=\"M 334.378906 41.953125 L 337.195312 146.679688 \"/>\n",
       "<path style=\"fill:none;stroke-width:1;stroke-linecap:butt;stroke-linejoin:miter;stroke:rgb(26.666667%,26.666667%,26.666667%);stroke-opacity:1;stroke-miterlimit:10;\" d=\"M 169.054688 70.875 L 337.195312 146.679688 \"/>\n",
       "<path style=\"fill:none;stroke-width:1;stroke-linecap:butt;stroke-linejoin:miter;stroke:rgb(26.666667%,26.666667%,26.666667%);stroke-opacity:1;stroke-miterlimit:10;\" d=\"M 499.8125 154.238281 L 337.195312 146.679688 \"/>\n",
       "<path style=\"fill:none;stroke-width:1;stroke-linecap:butt;stroke-linejoin:miter;stroke:rgb(26.666667%,26.666667%,26.666667%);stroke-opacity:1;stroke-miterlimit:10;\" d=\"M 439.878906 80.449219 L 337.195312 146.679688 \"/>\n",
       "<path style=\"fill:none;stroke-width:1;stroke-linecap:butt;stroke-linejoin:miter;stroke:rgb(26.666667%,26.666667%,26.666667%);stroke-opacity:1;stroke-miterlimit:10;\" d=\"M 176.113281 176.558594 L 337.195312 146.679688 \"/>\n",
       "<path style=\"fill:none;stroke-width:1;stroke-linecap:butt;stroke-linejoin:miter;stroke:rgb(26.666667%,26.666667%,26.666667%);stroke-opacity:1;stroke-miterlimit:10;\" d=\"M 387.632812 280.097656 L 337.195312 146.679688 \"/>\n",
       "<path style=\"fill:none;stroke-width:1;stroke-linecap:butt;stroke-linejoin:miter;stroke:rgb(26.666667%,26.666667%,26.666667%);stroke-opacity:1;stroke-miterlimit:10;\" d=\"M 309.035156 253.191406 L 302.628906 145.160156 \"/>\n",
       "<path style=\"fill:none;stroke-width:1;stroke-linecap:butt;stroke-linejoin:miter;stroke:rgb(26.666667%,26.666667%,26.666667%);stroke-opacity:1;stroke-miterlimit:10;\" d=\"M 128.25 149.214844 L 302.628906 145.160156 \"/>\n",
       "<path style=\"fill:none;stroke-width:1;stroke-linecap:butt;stroke-linejoin:miter;stroke:rgb(26.666667%,26.666667%,26.666667%);stroke-opacity:1;stroke-miterlimit:10;\" d=\"M 170.851562 241.917969 L 302.628906 145.160156 \"/>\n",
       "<path style=\"fill:none;stroke-width:1;stroke-linecap:butt;stroke-linejoin:miter;stroke:rgb(26.666667%,26.666667%,26.666667%);stroke-opacity:1;stroke-miterlimit:10;\" d=\"M 215.890625 49.179688 L 302.628906 145.160156 \"/>\n",
       "<path style=\"fill:none;stroke-width:1;stroke-linecap:butt;stroke-linejoin:miter;stroke:rgb(26.666667%,26.666667%,26.666667%);stroke-opacity:1;stroke-miterlimit:10;\" d=\"M 479.59375 98.453125 L 302.628906 145.160156 \"/>\n",
       "<path style=\"fill:none;stroke-width:1;stroke-linecap:butt;stroke-linejoin:miter;stroke:rgb(26.666667%,26.666667%,26.666667%);stroke-opacity:1;stroke-miterlimit:10;\" d=\"M 271.0625 35.675781 L 302.628906 145.160156 \"/>\n",
       "<path style=\"fill:none;stroke-width:1;stroke-linecap:butt;stroke-linejoin:miter;stroke:rgb(26.666667%,26.666667%,26.666667%);stroke-opacity:1;stroke-miterlimit:10;\" d=\"M 222.863281 248.402344 L 302.628906 145.160156 \"/>\n",
       "<path style=\"fill:none;stroke-width:1;stroke-linecap:butt;stroke-linejoin:miter;stroke:rgb(26.666667%,26.666667%,26.666667%);stroke-opacity:1;stroke-miterlimit:10;\" d=\"M 334.378906 41.953125 L 302.628906 145.160156 \"/>\n",
       "<path style=\"fill:none;stroke-width:1;stroke-linecap:butt;stroke-linejoin:miter;stroke:rgb(26.666667%,26.666667%,26.666667%);stroke-opacity:1;stroke-miterlimit:10;\" d=\"M 169.054688 70.875 L 302.628906 145.160156 \"/>\n",
       "<path style=\"fill:none;stroke-width:1;stroke-linecap:butt;stroke-linejoin:miter;stroke:rgb(26.666667%,26.666667%,26.666667%);stroke-opacity:1;stroke-miterlimit:10;\" d=\"M 499.8125 154.238281 L 302.628906 145.160156 \"/>\n",
       "<path style=\"fill:none;stroke-width:1;stroke-linecap:butt;stroke-linejoin:miter;stroke:rgb(26.666667%,26.666667%,26.666667%);stroke-opacity:1;stroke-miterlimit:10;\" d=\"M 399.5 20 L 302.628906 145.160156 \"/>\n",
       "<path style=\"fill:none;stroke-width:1;stroke-linecap:butt;stroke-linejoin:miter;stroke:rgb(26.666667%,26.666667%,26.666667%);stroke-opacity:1;stroke-miterlimit:10;\" d=\"M 438.15625 231.632812 L 302.628906 145.160156 \"/>\n",
       "<path style=\"fill:none;stroke-width:1;stroke-linecap:butt;stroke-linejoin:miter;stroke:rgb(26.666667%,26.666667%,26.666667%);stroke-opacity:1;stroke-miterlimit:10;\" d=\"M 388.445312 206.542969 L 302.628906 145.160156 \"/>\n",
       "<path style=\"fill:none;stroke-width:1;stroke-linecap:butt;stroke-linejoin:miter;stroke:rgb(26.666667%,26.666667%,26.666667%);stroke-opacity:1;stroke-miterlimit:10;\" d=\"M 439.878906 80.449219 L 302.628906 145.160156 \"/>\n",
       "<path style=\"fill:none;stroke-width:1;stroke-linecap:butt;stroke-linejoin:miter;stroke:rgb(26.666667%,26.666667%,26.666667%);stroke-opacity:1;stroke-miterlimit:10;\" d=\"M 176.113281 176.558594 L 302.628906 145.160156 \"/>\n",
       "<path style=\"fill:none;stroke-width:1;stroke-linecap:butt;stroke-linejoin:miter;stroke:rgb(26.666667%,26.666667%,26.666667%);stroke-opacity:1;stroke-miterlimit:10;\" d=\"M 387.632812 280.097656 L 302.628906 145.160156 \"/>\n",
       "<path style=\"fill:none;stroke-width:1;stroke-linecap:butt;stroke-linejoin:miter;stroke:rgb(26.666667%,26.666667%,26.666667%);stroke-opacity:1;stroke-miterlimit:10;\" d=\"M 337.195312 146.679688 L 302.628906 145.160156 \"/>\n",
       "<path style=\"fill-rule:nonzero;fill:rgb(12.156863%,46.666667%,70.588235%);fill-opacity:1;stroke-width:1;stroke-linecap:butt;stroke-linejoin:miter;stroke:rgb(0%,0%,0%);stroke-opacity:1;stroke-miterlimit:10;\" d=\"M 245.117188 364.652344 C 245.117188 370.175781 240.636719 374.652344 235.117188 374.652344 C 229.59375 374.652344 225.117188 370.175781 225.117188 364.652344 C 225.117188 359.128906 229.59375 354.652344 235.117188 354.652344 C 240.636719 354.652344 245.117188 359.128906 245.117188 364.652344 \"/>\n",
       "<path style=\"fill-rule:nonzero;fill:rgb(12.156863%,46.666667%,70.588235%);fill-opacity:1;stroke-width:1;stroke-linecap:butt;stroke-linejoin:miter;stroke:rgb(0%,0%,0%);stroke-opacity:1;stroke-miterlimit:10;\" d=\"M 132.554688 298.125 C 132.554688 303.648438 128.074219 308.125 122.554688 308.125 C 117.03125 308.125 112.554688 303.648438 112.554688 298.125 C 112.554688 292.601562 117.03125 288.125 122.554688 288.125 C 128.074219 288.125 132.554688 292.601562 132.554688 298.125 \"/>\n",
       "<path style=\"fill-rule:nonzero;fill:rgb(12.156863%,46.666667%,70.588235%);fill-opacity:1;stroke-width:1;stroke-linecap:butt;stroke-linejoin:miter;stroke:rgb(0%,0%,0%);stroke-opacity:1;stroke-miterlimit:10;\" d=\"M 263.242188 267.128906 C 263.242188 272.652344 258.765625 277.128906 253.242188 277.128906 C 247.71875 277.128906 243.242188 272.652344 243.242188 267.128906 C 243.242188 261.605469 247.71875 257.128906 253.242188 257.128906 C 258.765625 257.128906 263.242188 261.605469 263.242188 267.128906 \"/>\n",
       "<path style=\"fill-rule:nonzero;fill:rgb(12.156863%,46.666667%,70.588235%);fill-opacity:1;stroke-width:1;stroke-linecap:butt;stroke-linejoin:miter;stroke:rgb(0%,0%,0%);stroke-opacity:1;stroke-miterlimit:10;\" d=\"M 176.179688 344.195312 C 176.179688 349.71875 171.703125 354.195312 166.179688 354.195312 C 160.65625 354.195312 156.179688 349.71875 156.179688 344.195312 C 156.179688 338.671875 160.65625 334.195312 166.179688 334.195312 C 171.703125 334.195312 176.179688 338.671875 176.179688 344.195312 \"/>\n",
       "<path style=\"fill-rule:nonzero;fill:rgb(100%,49.803922%,5.490196%);fill-opacity:1;stroke-width:1;stroke-linecap:butt;stroke-linejoin:miter;stroke:rgb(0%,0%,0%);stroke-opacity:1;stroke-miterlimit:10;\" d=\"M 373.90625 427.585938 C 373.90625 433.105469 369.429688 437.585938 363.90625 437.585938 C 358.382812 437.585938 353.90625 433.105469 353.90625 427.585938 C 353.90625 422.0625 358.382812 417.585938 363.90625 417.585938 C 369.429688 417.585938 373.90625 422.0625 373.90625 427.585938 \"/>\n",
       "<path style=\"fill-rule:nonzero;fill:rgb(100%,49.803922%,5.490196%);fill-opacity:1;stroke-width:1;stroke-linecap:butt;stroke-linejoin:miter;stroke:rgb(0%,0%,0%);stroke-opacity:1;stroke-miterlimit:10;\" d=\"M 373.25 465.128906 C 373.25 470.652344 368.773438 475.128906 363.25 475.128906 C 357.726562 475.128906 353.25 470.652344 353.25 465.128906 C 353.25 459.605469 357.726562 455.128906 363.25 455.128906 C 368.773438 455.128906 373.25 459.605469 373.25 465.128906 \"/>\n",
       "<path style=\"fill-rule:nonzero;fill:rgb(100%,49.803922%,5.490196%);fill-opacity:1;stroke-width:1;stroke-linecap:butt;stroke-linejoin:miter;stroke:rgb(0%,0%,0%);stroke-opacity:1;stroke-miterlimit:10;\" d=\"M 297.578125 489.496094 C 297.578125 495.019531 293.101562 499.496094 287.578125 499.496094 C 282.054688 499.496094 277.578125 495.019531 277.578125 489.496094 C 277.578125 483.976562 282.054688 479.496094 287.578125 479.496094 C 293.101562 479.496094 297.578125 483.976562 297.578125 489.496094 \"/>\n",
       "<path style=\"fill-rule:nonzero;fill:rgb(12.156863%,46.666667%,70.588235%);fill-opacity:1;stroke-width:1;stroke-linecap:butt;stroke-linejoin:miter;stroke:rgb(0%,0%,0%);stroke-opacity:1;stroke-miterlimit:10;\" d=\"M 78.210938 301.425781 C 78.210938 306.949219 73.730469 311.425781 68.210938 311.425781 C 62.6875 311.425781 58.210938 306.949219 58.210938 301.425781 C 58.210938 295.90625 62.6875 291.425781 68.210938 291.425781 C 73.730469 291.425781 78.210938 295.90625 78.210938 301.425781 \"/>\n",
       "<path style=\"fill-rule:nonzero;fill:rgb(17.254902%,62.745098%,17.254902%);fill-opacity:1;stroke-width:1;stroke-linecap:butt;stroke-linejoin:miter;stroke:rgb(0%,0%,0%);stroke-opacity:1;stroke-miterlimit:10;\" d=\"M 319.035156 253.191406 C 319.035156 258.714844 314.558594 263.191406 309.035156 263.191406 C 303.515625 263.191406 299.035156 258.714844 299.035156 253.191406 C 299.035156 247.667969 303.515625 243.191406 309.035156 243.191406 C 314.558594 243.191406 319.035156 247.667969 319.035156 253.191406 \"/>\n",
       "<path style=\"fill-rule:nonzero;fill:rgb(83.921569%,15.294118%,15.686275%);fill-opacity:1;stroke-width:1;stroke-linecap:butt;stroke-linejoin:miter;stroke:rgb(0%,0%,0%);stroke-opacity:1;stroke-miterlimit:10;\" d=\"M 138.25 149.214844 C 138.25 154.738281 133.773438 159.214844 128.25 159.214844 C 122.726562 159.214844 118.25 154.738281 118.25 149.214844 C 118.25 143.691406 122.726562 139.214844 128.25 139.214844 C 133.773438 139.214844 138.25 143.691406 138.25 149.214844 \"/>\n",
       "<path style=\"fill-rule:nonzero;fill:rgb(100%,49.803922%,5.490196%);fill-opacity:1;stroke-width:1;stroke-linecap:butt;stroke-linejoin:miter;stroke:rgb(0%,0%,0%);stroke-opacity:1;stroke-miterlimit:10;\" d=\"M 259.070312 464.855469 C 259.070312 470.378906 254.59375 474.855469 249.070312 474.855469 C 243.546875 474.855469 239.070312 470.378906 239.070312 464.855469 C 239.070312 459.335938 243.546875 454.855469 249.070312 454.855469 C 254.59375 454.855469 259.070312 459.335938 259.070312 464.855469 \"/>\n",
       "<path style=\"fill-rule:nonzero;fill:rgb(12.156863%,46.666667%,70.588235%);fill-opacity:1;stroke-width:1;stroke-linecap:butt;stroke-linejoin:miter;stroke:rgb(0%,0%,0%);stroke-opacity:1;stroke-miterlimit:10;\" d=\"M 104.945312 461.964844 C 104.945312 467.488281 100.46875 471.964844 94.945312 471.964844 C 89.421875 471.964844 84.945312 467.488281 84.945312 461.964844 C 84.945312 456.441406 89.421875 451.964844 94.945312 451.964844 C 100.46875 451.964844 104.945312 456.441406 104.945312 461.964844 \"/>\n",
       "<path style=\"fill-rule:nonzero;fill:rgb(12.156863%,46.666667%,70.588235%);fill-opacity:1;stroke-width:1;stroke-linecap:butt;stroke-linejoin:miter;stroke:rgb(0%,0%,0%);stroke-opacity:1;stroke-miterlimit:10;\" d=\"M 166.363281 453.585938 C 166.363281 459.109375 161.882812 463.585938 156.363281 463.585938 C 150.839844 463.585938 146.363281 459.109375 146.363281 453.585938 C 146.363281 448.066406 150.839844 443.585938 156.363281 443.585938 C 161.882812 443.585938 166.363281 448.066406 166.363281 453.585938 \"/>\n",
       "<path style=\"fill-rule:nonzero;fill:rgb(12.156863%,46.666667%,70.588235%);fill-opacity:1;stroke-width:1;stroke-linecap:butt;stroke-linejoin:miter;stroke:rgb(0%,0%,0%);stroke-opacity:1;stroke-miterlimit:10;\" d=\"M 180.851562 241.917969 C 180.851562 247.441406 176.375 251.917969 170.851562 251.917969 C 165.328125 251.917969 160.851562 247.441406 160.851562 241.917969 C 160.851562 236.394531 165.328125 231.917969 170.851562 231.917969 C 176.375 231.917969 180.851562 236.394531 180.851562 241.917969 \"/>\n",
       "<path style=\"fill-rule:nonzero;fill:rgb(17.254902%,62.745098%,17.254902%);fill-opacity:1;stroke-width:1;stroke-linecap:butt;stroke-linejoin:miter;stroke:rgb(0%,0%,0%);stroke-opacity:1;stroke-miterlimit:10;\" d=\"M 225.890625 49.179688 C 225.890625 54.703125 221.410156 59.179688 215.890625 59.179688 C 210.367188 59.179688 205.890625 54.703125 205.890625 49.179688 C 205.890625 43.65625 210.367188 39.179688 215.890625 39.179688 C 221.410156 39.179688 225.890625 43.65625 225.890625 49.179688 \"/>\n",
       "<path style=\"fill-rule:nonzero;fill:rgb(17.254902%,62.745098%,17.254902%);fill-opacity:1;stroke-width:1;stroke-linecap:butt;stroke-linejoin:miter;stroke:rgb(0%,0%,0%);stroke-opacity:1;stroke-miterlimit:10;\" d=\"M 489.59375 98.453125 C 489.59375 103.976562 485.117188 108.453125 479.59375 108.453125 C 474.070312 108.453125 469.59375 103.976562 469.59375 98.453125 C 469.59375 92.929688 474.070312 88.453125 479.59375 88.453125 C 485.117188 88.453125 489.59375 92.929688 489.59375 98.453125 \"/>\n",
       "<path style=\"fill-rule:nonzero;fill:rgb(100%,49.803922%,5.490196%);fill-opacity:1;stroke-width:1;stroke-linecap:butt;stroke-linejoin:miter;stroke:rgb(0%,0%,0%);stroke-opacity:1;stroke-miterlimit:10;\" d=\"M 390.480469 580 C 390.480469 585.523438 386.003906 590 380.480469 590 C 374.957031 590 370.480469 585.523438 370.480469 580 C 370.480469 574.476562 374.957031 570 380.480469 570 C 386.003906 570 390.480469 574.476562 390.480469 580 \"/>\n",
       "<path style=\"fill-rule:nonzero;fill:rgb(12.156863%,46.666667%,70.588235%);fill-opacity:1;stroke-width:1;stroke-linecap:butt;stroke-linejoin:miter;stroke:rgb(0%,0%,0%);stroke-opacity:1;stroke-miterlimit:10;\" d=\"M 30 366.128906 C 30 371.652344 25.523438 376.128906 20 376.128906 C 14.476562 376.128906 10 371.652344 10 366.128906 C 10 360.605469 14.476562 356.128906 20 356.128906 C 25.523438 356.128906 30 360.605469 30 366.128906 \"/>\n",
       "<path style=\"fill-rule:nonzero;fill:rgb(17.254902%,62.745098%,17.254902%);fill-opacity:1;stroke-width:1;stroke-linecap:butt;stroke-linejoin:miter;stroke:rgb(0%,0%,0%);stroke-opacity:1;stroke-miterlimit:10;\" d=\"M 281.0625 35.675781 C 281.0625 41.199219 276.585938 45.675781 271.0625 45.675781 C 265.539062 45.675781 261.0625 41.199219 261.0625 35.675781 C 261.0625 30.152344 265.539062 25.675781 271.0625 25.675781 C 276.585938 25.675781 281.0625 30.152344 281.0625 35.675781 \"/>\n",
       "<path style=\"fill-rule:nonzero;fill:rgb(12.156863%,46.666667%,70.588235%);fill-opacity:1;stroke-width:1;stroke-linecap:butt;stroke-linejoin:miter;stroke:rgb(0%,0%,0%);stroke-opacity:1;stroke-miterlimit:10;\" d=\"M 232.863281 248.402344 C 232.863281 253.921875 228.386719 258.402344 222.863281 258.402344 C 217.339844 258.402344 212.863281 253.921875 212.863281 248.402344 C 212.863281 242.878906 217.339844 238.402344 222.863281 238.402344 C 228.386719 238.402344 232.863281 242.878906 232.863281 248.402344 \"/>\n",
       "<path style=\"fill-rule:nonzero;fill:rgb(17.254902%,62.745098%,17.254902%);fill-opacity:1;stroke-width:1;stroke-linecap:butt;stroke-linejoin:miter;stroke:rgb(0%,0%,0%);stroke-opacity:1;stroke-miterlimit:10;\" d=\"M 344.378906 41.953125 C 344.378906 47.476562 339.902344 51.953125 334.378906 51.953125 C 328.855469 51.953125 324.378906 47.476562 324.378906 41.953125 C 324.378906 36.429688 328.855469 31.953125 334.378906 31.953125 C 339.902344 31.953125 344.378906 36.429688 344.378906 41.953125 \"/>\n",
       "<path style=\"fill-rule:nonzero;fill:rgb(12.156863%,46.666667%,70.588235%);fill-opacity:1;stroke-width:1;stroke-linecap:butt;stroke-linejoin:miter;stroke:rgb(0%,0%,0%);stroke-opacity:1;stroke-miterlimit:10;\" d=\"M 71.539062 401.167969 C 71.539062 406.691406 67.058594 411.167969 61.539062 411.167969 C 56.015625 411.167969 51.539062 406.691406 51.539062 401.167969 C 51.539062 395.644531 56.015625 391.167969 61.539062 391.167969 C 67.058594 391.167969 71.539062 395.644531 71.539062 401.167969 \"/>\n",
       "<path style=\"fill-rule:nonzero;fill:rgb(17.254902%,62.745098%,17.254902%);fill-opacity:1;stroke-width:1;stroke-linecap:butt;stroke-linejoin:miter;stroke:rgb(0%,0%,0%);stroke-opacity:1;stroke-miterlimit:10;\" d=\"M 179.054688 70.875 C 179.054688 76.398438 174.578125 80.875 169.054688 80.875 C 163.535156 80.875 159.054688 76.398438 159.054688 70.875 C 159.054688 65.351562 163.535156 60.875 169.054688 60.875 C 174.578125 60.875 179.054688 65.351562 179.054688 70.875 \"/>\n",
       "<path style=\"fill-rule:nonzero;fill:rgb(58.039216%,40.392157%,74.117647%);fill-opacity:1;stroke-width:1;stroke-linecap:butt;stroke-linejoin:miter;stroke:rgb(0%,0%,0%);stroke-opacity:1;stroke-miterlimit:10;\" d=\"M 509.8125 154.238281 C 509.8125 159.761719 505.332031 164.238281 499.8125 164.238281 C 494.289062 164.238281 489.8125 159.761719 489.8125 154.238281 C 489.8125 148.714844 494.289062 144.238281 499.8125 144.238281 C 505.332031 144.238281 509.8125 148.714844 509.8125 154.238281 \"/>\n",
       "<path style=\"fill-rule:nonzero;fill:rgb(54.901961%,33.72549%,29.411765%);fill-opacity:1;stroke-width:1;stroke-linecap:butt;stroke-linejoin:miter;stroke:rgb(0%,0%,0%);stroke-opacity:1;stroke-miterlimit:10;\" d=\"M 553.722656 320.722656 C 553.722656 326.242188 549.246094 330.722656 543.722656 330.722656 C 538.199219 330.722656 533.722656 326.242188 533.722656 320.722656 C 533.722656 315.199219 538.199219 310.722656 543.722656 310.722656 C 549.246094 310.722656 553.722656 315.199219 553.722656 320.722656 \"/>\n",
       "<path style=\"fill-rule:nonzero;fill:rgb(54.901961%,33.72549%,29.411765%);fill-opacity:1;stroke-width:1;stroke-linecap:butt;stroke-linejoin:miter;stroke:rgb(0%,0%,0%);stroke-opacity:1;stroke-miterlimit:10;\" d=\"M 590 255.324219 C 590 260.847656 585.523438 265.324219 580 265.324219 C 574.476562 265.324219 570 260.847656 570 255.324219 C 570 249.800781 574.476562 245.324219 580 245.324219 C 585.523438 245.324219 590 249.800781 590 255.324219 \"/>\n",
       "<path style=\"fill-rule:nonzero;fill:rgb(17.254902%,62.745098%,17.254902%);fill-opacity:1;stroke-width:1;stroke-linecap:butt;stroke-linejoin:miter;stroke:rgb(0%,0%,0%);stroke-opacity:1;stroke-miterlimit:10;\" d=\"M 409.5 20 C 409.5 25.523438 405.023438 30 399.5 30 C 393.976562 30 389.5 25.523438 389.5 20 C 389.5 14.476562 393.976562 10 399.5 10 C 405.023438 10 409.5 14.476562 409.5 20 \"/>\n",
       "<path style=\"fill-rule:nonzero;fill:rgb(54.901961%,33.72549%,29.411765%);fill-opacity:1;stroke-width:1;stroke-linecap:butt;stroke-linejoin:miter;stroke:rgb(0%,0%,0%);stroke-opacity:1;stroke-miterlimit:10;\" d=\"M 448.15625 231.632812 C 448.15625 237.152344 443.679688 241.632812 438.15625 241.632812 C 432.632812 241.632812 428.15625 237.152344 428.15625 231.632812 C 428.15625 226.109375 432.632812 221.632812 438.15625 221.632812 C 443.679688 221.632812 448.15625 226.109375 448.15625 231.632812 \"/>\n",
       "<path style=\"fill-rule:nonzero;fill:rgb(54.901961%,33.72549%,29.411765%);fill-opacity:1;stroke-width:1;stroke-linecap:butt;stroke-linejoin:miter;stroke:rgb(0%,0%,0%);stroke-opacity:1;stroke-miterlimit:10;\" d=\"M 398.445312 206.542969 C 398.445312 212.066406 393.96875 216.542969 388.445312 216.542969 C 382.921875 216.542969 378.445312 212.066406 378.445312 206.542969 C 378.445312 201.019531 382.921875 196.542969 388.445312 196.542969 C 393.96875 196.542969 398.445312 201.019531 398.445312 206.542969 \"/>\n",
       "<path style=\"fill-rule:nonzero;fill:rgb(17.254902%,62.745098%,17.254902%);fill-opacity:1;stroke-width:1;stroke-linecap:butt;stroke-linejoin:miter;stroke:rgb(0%,0%,0%);stroke-opacity:1;stroke-miterlimit:10;\" d=\"M 449.878906 80.449219 C 449.878906 85.972656 445.402344 90.449219 439.878906 90.449219 C 434.355469 90.449219 429.878906 85.972656 429.878906 80.449219 C 429.878906 74.925781 434.355469 70.449219 439.878906 70.449219 C 445.402344 70.449219 449.878906 74.925781 449.878906 80.449219 \"/>\n",
       "<path style=\"fill-rule:nonzero;fill:rgb(17.254902%,62.745098%,17.254902%);fill-opacity:1;stroke-width:1;stroke-linecap:butt;stroke-linejoin:miter;stroke:rgb(0%,0%,0%);stroke-opacity:1;stroke-miterlimit:10;\" d=\"M 186.113281 176.558594 C 186.113281 182.082031 181.636719 186.558594 176.113281 186.558594 C 170.589844 186.558594 166.113281 182.082031 166.113281 176.558594 C 166.113281 171.039062 170.589844 166.558594 176.113281 166.558594 C 181.636719 166.558594 186.113281 171.039062 186.113281 176.558594 \"/>\n",
       "<path style=\"fill-rule:nonzero;fill:rgb(54.901961%,33.72549%,29.411765%);fill-opacity:1;stroke-width:1;stroke-linecap:butt;stroke-linejoin:miter;stroke:rgb(0%,0%,0%);stroke-opacity:1;stroke-miterlimit:10;\" d=\"M 397.632812 280.097656 C 397.632812 285.621094 393.15625 290.097656 387.632812 290.097656 C 382.109375 290.097656 377.632812 285.621094 377.632812 280.097656 C 377.632812 274.574219 382.109375 270.097656 387.632812 270.097656 C 393.15625 270.097656 397.632812 274.574219 397.632812 280.097656 \"/>\n",
       "<path style=\"fill-rule:nonzero;fill:rgb(17.254902%,62.745098%,17.254902%);fill-opacity:1;stroke-width:1;stroke-linecap:butt;stroke-linejoin:miter;stroke:rgb(0%,0%,0%);stroke-opacity:1;stroke-miterlimit:10;\" d=\"M 347.195312 146.679688 C 347.195312 152.203125 342.71875 156.679688 337.195312 156.679688 C 331.675781 156.679688 327.195312 152.203125 327.195312 146.679688 C 327.195312 141.15625 331.675781 136.679688 337.195312 136.679688 C 342.71875 136.679688 347.195312 141.15625 347.195312 146.679688 \"/>\n",
       "<path style=\"fill-rule:nonzero;fill:rgb(17.254902%,62.745098%,17.254902%);fill-opacity:1;stroke-width:1;stroke-linecap:butt;stroke-linejoin:miter;stroke:rgb(0%,0%,0%);stroke-opacity:1;stroke-miterlimit:10;\" d=\"M 312.628906 145.160156 C 312.628906 150.683594 308.148438 155.160156 302.628906 155.160156 C 297.105469 155.160156 292.628906 150.683594 292.628906 145.160156 C 292.628906 139.636719 297.105469 135.160156 302.628906 135.160156 C 308.148438 135.160156 312.628906 139.636719 312.628906 145.160156 \"/>\n",
       "</g>\n",
       "</svg>\n"
      ],
      "text/plain": [
       "<igraph.drawing.Plot at 0x7f044bb0cac8>"
      ]
     },
     "execution_count": 16,
     "metadata": {},
     "output_type": "execute_result"
    }
   ],
   "source": [
    "igraph.plot(g_karate,\n",
    "           vertex_color = [cmap[c] for c in part2_karate], layout=layout)"
   ]
  },
  {
   "cell_type": "code",
   "execution_count": 17,
   "metadata": {},
   "outputs": [
    {
     "name": "stdout",
     "output_type": "stream",
     "text": [
      "Iteration 0\n",
      "Iteration 1\n",
      "Converged!\n"
     ]
    }
   ],
   "source": [
    "partitions = consensus.get_initial_partitions(g_karate)\n",
    "consensus_mat = consensus.get_consensus_matrix(partitions, g_karate.vcount())\n",
    "consensus_mat2, consensus_part = consensus.consensus_partition(g_karate, initial_partition=partitions, verbose=True)"
   ]
  },
  {
   "cell_type": "code",
   "execution_count": 18,
   "metadata": {},
   "outputs": [
    {
     "data": {
      "text/plain": [
       "<matplotlib.image.AxesImage at 0x7f044bbad9b0>"
      ]
     },
     "execution_count": 18,
     "metadata": {},
     "output_type": "execute_result"
    },
    {
     "data": {
      "image/png": "[encoded data removed]",
      "text/plain": [
       "<Figure size 432x288 with 1 Axes>"
      ]
     },
     "metadata": {
      "needs_background": "light"
     },
     "output_type": "display_data"
    }
   ],
   "source": [
    "plt.imshow(consensus_mat, cmap='Greys')"
   ]
  },
  {
   "cell_type": "code",
   "execution_count": 19,
   "metadata": {},
   "outputs": [
    {
     "data": {
      "text/plain": [
       "<matplotlib.image.AxesImage at 0x7f044bb748d0>"
      ]
     },
     "execution_count": 19,
     "metadata": {},
     "output_type": "execute_result"
    },
    {
     "data": {
      "image/png": "[encoded data removed]",
      "text/plain": [
       "<Figure size 432x288 with 1 Axes>"
      ]
     },
     "metadata": {
      "needs_background": "light"
     },
     "output_type": "display_data"
    }
   ],
   "source": [
    "plt.imshow(consensus_mat2, cmap='Greys')"
   ]
  },
  {
   "cell_type": "code",
   "execution_count": null,
   "metadata": {},
   "outputs": [],
   "source": []
  }
 ],
 "metadata": {
  "kernelspec": {
   "display_name": "Python [conda env:networks]",
   "language": "python",
   "name": "conda-env-networks-py"
  },
  "language_info": {
   "codemirror_mode": {
    "name": "ipython",
    "version": 3
   },
   "file_extension": ".py",
   "mimetype": "text/x-python",
   "name": "python",
   "nbconvert_exporter": "python",
   "pygments_lexer": "ipython3",
   "version": "3.6.7"
  }
 },
 "nbformat": 4,
 "nbformat_minor": 2
}
