{
 "cells": [
  {
   "cell_type": "markdown",
   "metadata": {},
   "source": [
    "# Consensus clustering and consistency\n",
    "Reference: Lancichinetti, Andrea, and Santo Fortunato. \"Consensus clustering in complex networks.\" _Scientific reports 2_ (2012): 336."
   ]
  },
  {
   "cell_type": "code",
   "execution_count": 1,
   "metadata": {},
   "outputs": [],
   "source": [
    "%matplotlib inline\n",
    "import matplotlib.pyplot as plt\n",
    "import igraph\n",
    "import leidenalg\n",
    "import numpy as np\n",
    "import itertools\n",
    "import pandas as pd\n",
    "from nwtools import communities, consensus"
   ]
  },
  {
   "cell_type": "code",
   "execution_count": 2,
   "metadata": {},
   "outputs": [],
   "source": [
    "g_test = igraph.Graph(directed=False)\n",
    "node_names = [chr(c) for c in range(ord('A'), ord('H'))]\n",
    "g_test.add_vertices(node_names)\n",
    "\n",
    "g_test.add_edges([\n",
    "    ('A', 'B'),\n",
    "    ('A', 'C'),\n",
    "    ('B', 'C'),\n",
    "    ('C', 'D'),\n",
    "    ('D', 'E'),\n",
    "    ('D', 'F'),\n",
    "    ('F', 'G'),\n",
    "    ('D', 'G')\n",
    "])"
   ]
  },
  {
   "cell_type": "code",
   "execution_count": 3,
   "metadata": {},
   "outputs": [],
   "source": [
    "part1 = igraph.clustering.VertexClustering(g_test, [0,0,0,2,2,2,2])\n",
    "part2 = igraph.clustering.VertexClustering(g_test, [0,0,1,1,1,2,2])\n",
    "part3 = igraph.clustering.VertexClustering(g_test, [0,0,0,1,1,2,2])\n",
    "\n",
    "n1 = 60\n",
    "n2 = 30\n",
    "n3 = 10\n",
    "\n",
    "initial_partition = [part1]*n1 + [part2]*n2 + [part3]*n3"
   ]
  },
  {
   "cell_type": "code",
   "execution_count": null,
   "metadata": {},
   "outputs": [],
   "source": [
    "color_dict = {0: 'lightblue', 1: 'green', 2: 'red'}\n",
    "#layout = g_test.layout('kk')\n",
    "layout = [(0, 1),\n",
    "          (2, 0),\n",
    "          (1, 2),\n",
    "          (0, 3),\n",
    "          (1, 3),\n",
    "          (0, 4),\n",
    "          (2, 4)\n",
    "         ]\n",
    "layout = [(y,x) for x,y in layout]"
   ]
  },
  {
   "cell_type": "code",
   "execution_count": null,
   "metadata": {},
   "outputs": [],
   "source": [
    "print('{} partitions'.format(n1))\n",
    "igraph.plot(g_test, layout=layout, \n",
    "            vertex_color = [color_dict[c] for c in part1.membership],\n",
    "            vertex_label = g_test.vs[\"name\"],\n",
    "           bbox=(0,0,200,100))"
   ]
  },
  {
   "cell_type": "code",
   "execution_count": null,
   "metadata": {},
   "outputs": [],
   "source": [
    "print('{} partitions'.format(n2))\n",
    "igraph.plot(g_test, layout=layout, \n",
    "            vertex_color = [color_dict[c] for c in part2.membership],\n",
    "            vertex_label = g_test.vs[\"name\"],\n",
    "           bbox=(0,0,200,100))"
   ]
  },
  {
   "cell_type": "code",
   "execution_count": null,
   "metadata": {},
   "outputs": [],
   "source": [
    "print('{} partitions'.format(n3))\n",
    "igraph.plot(g_test, layout=layout, \n",
    "            vertex_color = [color_dict[c] for c in part3.membership],\n",
    "            vertex_label = g_test.vs[\"name\"],\n",
    "           bbox=(0,0,200,100))"
   ]
  },
  {
   "cell_type": "code",
   "execution_count": null,
   "metadata": {},
   "outputs": [],
   "source": [
    "consensus_mat = consensus.get_consensus_matrix(initial_partition, g_test.vcount())\n",
    "plt.imshow(consensus_mat, cmap='Greys')\n",
    "#plt.xticks.l(node_names)"
   ]
  },
  {
   "cell_type": "code",
   "execution_count": null,
   "metadata": {},
   "outputs": [],
   "source": [
    "edge_indices = [e.tuple for e in g_test.es]\n",
    "edge_indices"
   ]
  },
  {
   "cell_type": "code",
   "execution_count": null,
   "metadata": {},
   "outputs": [],
   "source": [
    "ix, jx = zip(*edge_indices)\n",
    "consensus_df = pd.DataFrame({'Source': [node_names[i] for i in ix],\n",
    "                             'Target': [node_names[j] for j in jx],\n",
    "                            'consensus': consensus_mat[ix, jx]})"
   ]
  },
  {
   "cell_type": "code",
   "execution_count": null,
   "metadata": {},
   "outputs": [],
   "source": [
    "consensus_df['consistency'] = 2*np.abs(consensus_df.consensus-0.5)"
   ]
  },
  {
   "cell_type": "code",
   "execution_count": null,
   "metadata": {},
   "outputs": [],
   "source": [
    "consensus_df"
   ]
  },
  {
   "cell_type": "code",
   "execution_count": null,
   "metadata": {},
   "outputs": [],
   "source": [
    "plt.hist(consensus_df.consistency)\n",
    "plt.show()"
   ]
  },
  {
   "cell_type": "code",
   "execution_count": null,
   "metadata": {},
   "outputs": [],
   "source": [
    "def get_node_stability(graph, edges_df, thres_list=None):\n",
    "    suffix = ''\n",
    "    names = graph.vs.get_attribute_values('name')\n",
    "    nodes_df = pd.DataFrame(index=names)\n",
    "    nodes_df['degree'+suffix] = pd.Series(graph.degree(), index=names)\n",
    "    #nodes_df['weighted_degree'+suffix] = pd.Series(graph.strength(weights='weight'), index=names)\n",
    "    nodes_df['eigenvector_centrality'+suffix] = pd.Series(\n",
    "        graph.eigenvector_centrality(directed=False), index=names)\n",
    "    nodes_df['betweenness'+suffix] = pd.Series(graph.betweenness(directed=False), index=names)\n",
    "    edges_unstacked = edges_df.consistency.unstack()\n",
    "    \n",
    "    stabilities_unstacked = edges_unstacked.add(edges_unstacked.transpose(), fill_value=0)\n",
    "\n",
    "    nodes_df['consistency_mean'] = stabilities_unstacked.mean(axis=0)\n",
    "    nodes_df['consistency_min'] = stabilities_unstacked.min(axis=0)\n",
    "    nodes_df['consistency_max'] = stabilities_unstacked.max(axis=0)\n",
    "    nodes_df['consistency_std'] = stabilities_unstacked.apply(np.std, axis=0)\n",
    "    nodes_df['consistency_mean_min_std'] = nodes_df['consistency_mean'] - nodes_df['consistency_std']\n",
    "    if thres_list is None:\n",
    "        thres_list = [0.8, 0.9, 1.0]\n",
    "    for thres in thres_list:\n",
    "        perc_consistent_neigbors =  (stabilities_unstacked>=thres).sum(axis=0) / (~stabilities_unstacked.isna()).sum(axis=0)\n",
    "        nodes_df['consistency_neighbors_{:.1f}'.format(thres)] =perc_consistent_neigbors\n",
    "        \n",
    "    return nodes_df"
   ]
  },
  {
   "cell_type": "code",
   "execution_count": null,
   "metadata": {},
   "outputs": [],
   "source": [
    "node_consistency = get_node_stability(g_test, consensus_df.set_index(['Source', 'Target']),\n",
    "                                     thres_list=[0.5, 0.65, 1])"
   ]
  },
  {
   "cell_type": "code",
   "execution_count": null,
   "metadata": {},
   "outputs": [],
   "source": [
    "node_consistency"
   ]
  },
  {
   "cell_type": "code",
   "execution_count": null,
   "metadata": {},
   "outputs": [],
   "source": [
    "node_consistency.plot('consistency_neighbors_0.7', 'consistency_mean', kind='scatter')\n",
    "plt.xlim(-.1,1.1)\n",
    "plt.ylim(-.1,1.1)"
   ]
  },
  {
   "cell_type": "code",
   "execution_count": null,
   "metadata": {},
   "outputs": [],
   "source": [
    "node_consistency.plot('consistency_neighbors_1.0', 'consistency_mean', kind='scatter')\n",
    "plt.xlim(-.1,1.1)\n",
    "plt.ylim(-.1,1.1)"
   ]
  },
  {
   "cell_type": "code",
   "execution_count": null,
   "metadata": {},
   "outputs": [],
   "source": [
    "node_consistency['consistency_neighbors_1.0'].sort_values()"
   ]
  },
  {
   "cell_type": "code",
   "execution_count": null,
   "metadata": {},
   "outputs": [],
   "source": [
    "node_consistency['consistency_neighbors_0.5'].sort_values()"
   ]
  },
  {
   "cell_type": "code",
   "execution_count": null,
   "metadata": {},
   "outputs": [],
   "source": [
    "import matplotlib \n",
    "cm = matplotlib.cm.get_cmap('Greens')"
   ]
  },
  {
   "cell_type": "code",
   "execution_count": null,
   "metadata": {},
   "outputs": [],
   "source": [
    "attr = 'consistency_mean' #'consistency_neighbors_0.7'\n",
    "igraph.plot(g_test, layout=layout, \n",
    "            vertex_color = [cm(c) for c in node_consistency[attr]],\n",
    "            edge_width = 5*consensus_df.consistency,\n",
    "            vertex_label = g_test.vs[\"name\"],\n",
    "           bbox=(0,0,200,100))"
   ]
  },
  {
   "cell_type": "code",
   "execution_count": null,
   "metadata": {},
   "outputs": [],
   "source": [
    "attr = 'consistency_neighbors_1.0'\n",
    "igraph.plot(g_test, layout=layout, \n",
    "            vertex_color = [cm(c) for c in node_consistency[attr]],\n",
    "             edge_width = 5*consensus_df.consistency,\n",
    "            vertex_label = g_test.vs[\"name\"],\n",
    "           bbox=(0,0,200,100))"
   ]
  },
  {
   "cell_type": "code",
   "execution_count": null,
   "metadata": {},
   "outputs": [],
   "source": [
    "attr = 'consistency_mean_min_std' #'consistency_neighbors_0.7'\n",
    "igraph.plot(g_test, layout=layout, \n",
    "            vertex_color = [cm(c) for c in node_consistency[attr]],\n",
    "             edge_width = 5*consensus_df.consistency,\n",
    "            vertex_label = g_test.vs[\"name\"],\n",
    "           bbox=(0,0,200,100))"
   ]
  },
  {
   "cell_type": "code",
   "execution_count": null,
   "metadata": {},
   "outputs": [],
   "source": []
  },
  {
   "cell_type": "code",
   "execution_count": null,
   "metadata": {},
   "outputs": [],
   "source": []
  }
 ],
 "metadata": {
  "kernelspec": {
   "display_name": "Python [conda env:networks]",
   "language": "python",
   "name": "conda-env-networks-py"
  },
  "language_info": {
   "codemirror_mode": {
    "name": "ipython",
    "version": 3
   },
   "file_extension": ".py",
   "mimetype": "text/x-python",
   "name": "python",
   "nbconvert_exporter": "python",
   "pygments_lexer": "ipython3",
   "version": "3.6.7"
  }
 },
 "nbformat": 4,
 "nbformat_minor": 2
}
